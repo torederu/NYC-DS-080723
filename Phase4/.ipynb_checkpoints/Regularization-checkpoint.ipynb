{
 "cells": [
  {
   "cell_type": "markdown",
   "metadata": {
    "slideshow": {
     "slide_type": "slide"
    }
   },
   "source": [
    "<div style=\"color:white;\n",
    "           display:fill;\n",
    "           border-radius:5px;\n",
    "           background-color:#5642C5;\n",
    "           font-size:200%;\n",
    "           font-family:Arial;letter-spacing:0.5px\">\n",
    "\n",
    "<p width = 20%, style=\"padding: 10px;\n",
    "              color:white;\">\n",
    "Neural Networks: Regularization\n",
    "</p>\n",
    "</div>\n",
    "\n",
    "Data Science Cohort Live NYC October 2023\n",
    "<p>Phase 4</p>\n",
    "<br>\n",
    "<br>\n",
    "\n",
    "<div align = \"right\">\n",
    "<img src=\"Images/flatiron-school-logo.png\" align = \"right\" width=\"200\"/>\n",
    "</div>\n",
    "    \n",
    "    "
   ]
  },
  {
   "cell_type": "code",
   "execution_count": 1,
   "metadata": {
    "slideshow": {
     "slide_type": "skip"
    }
   },
   "outputs": [
    {
     "name": "stderr",
     "output_type": "stream",
     "text": [
      "2023-10-17 09:24:54.140010: I tensorflow/core/platform/cpu_feature_guard.cc:193] This TensorFlow binary is optimized with oneAPI Deep Neural Network Library (oneDNN) to use the following CPU instructions in performance-critical operations:  SSE4.1 SSE4.2\n",
      "To enable them in other operations, rebuild TensorFlow with the appropriate compiler flags.\n"
     ]
    }
   ],
   "source": [
    "from sklearn.datasets import load_sample_images\n",
    "from sklearn.datasets import load_digits\n",
    "from sklearn.model_selection import train_test_split, cross_val_score\n",
    "from sklearn.preprocessing import OneHotEncoder\n",
    "from sklearn.metrics import accuracy_score, confusion_matrix\n",
    "import matplotlib.pyplot as plt\n",
    "import matplotlib.image as mpimg\n",
    "import numpy as np\n",
    "import pandas as pd\n",
    "from sklearn.metrics import ConfusionMatrixDisplay\n",
    "import seaborn as sns\n",
    "\n",
    "from tensorflow.keras import datasets\n",
    "from tensorflow.keras.models import Sequential\n",
    "from tensorflow.keras.layers import Dense, Dropout\n",
    "from tensorflow.keras.callbacks import EarlyStopping\n",
    "from tensorflow.keras.utils import to_categorical\n",
    "from tensorflow.keras.layers import Flatten # takes 2D input and turns into 1D array\n",
    "\n"
   ]
  },
  {
   "cell_type": "markdown",
   "metadata": {
    "slideshow": {
     "slide_type": "slide"
    }
   },
   "source": [
    "### Things to remember:\n"
   ]
  },
  {
   "cell_type": "markdown",
   "metadata": {
    "slideshow": {
     "slide_type": "fragment"
    }
   },
   "source": [
    "## STEPS ##\n",
    "\n",
    "1. Load Data\n",
    "2. Define Keras Model\n",
    "3. Compile Keras Model\n",
    "4. Fit Keras Model\n",
    "5. Evaluate Keras Model\n",
    "6. Make Predictions"
   ]
  },
  {
   "cell_type": "markdown",
   "metadata": {
    "slideshow": {
     "slide_type": "slide"
    }
   },
   "source": [
    "\n",
    "- The data and labels in `fit()` need to be numpy arrays, not `pandas` dfs.\n",
    "- Scaling your data will have a large impact on your model.\n",
    "   > For our traditional input features, we would use a scaler object. For images, as long as the minimum value is 0, we can simply divide through by the maximum pixel intensity."
   ]
  },
  {
   "cell_type": "markdown",
   "metadata": {
    "slideshow": {
     "slide_type": "slide"
    }
   },
   "source": [
    "#### Regularization\n",
    "- Retain complexity of neural network: many weights to learn interesting relationships\n",
    "- Make our weights less susceptible to overfitting\n",
    "\n",
    "**Getting neural networks to perform really well**"
   ]
  },
  {
   "cell_type": "markdown",
   "metadata": {
    "slideshow": {
     "slide_type": "slide"
    }
   },
   "source": [
    "In neural networks, two main forms of regularization:\n",
    "- L2 Regularization (something familiar)\n",
    "- Dropout Regularization (something a little new)"
   ]
  },
  {
   "cell_type": "markdown",
   "metadata": {
    "slideshow": {
     "slide_type": "slide"
    }
   },
   "source": [
    "**L2 Regularization**\n",
    "\n",
    "- Add penalty on weight **matrices**.\n",
    "$$ J \\rightarrow J' $$\n",
    "$$ J = \\sum_{i=1}^m \\frac{1}{m}L(y_i, \\hat{y}_i) $$\n",
    "$$ J' = \\sum_{i=1}^m \\frac{1}{m}L(y_i, \\hat{y}_i) + \\frac{\\lambda}{2} \\sum_{l=1}^L \\lVert  W^{[l]}   \\rVert_F^2 $$"
   ]
  },
  {
   "cell_type": "markdown",
   "metadata": {
    "slideshow": {
     "slide_type": "fragment"
    }
   },
   "source": [
    "where $F$ denotes the Frobenius norm."
   ]
  },
  {
   "cell_type": "markdown",
   "metadata": {
    "cell_style": "center",
    "slideshow": {
     "slide_type": "slide"
    }
   },
   "source": [
    "Frobenius norm is square root of sum of of element-wise square:\n",
    "i.e. \n",
    "$$ \\lVert  A   \\rVert_F = \\sqrt{\\sum_{i,j} A_{ij}^2 }$$"
   ]
  },
  {
   "cell_type": "code",
   "execution_count": 2,
   "metadata": {
    "slideshow": {
     "slide_type": "fragment"
    }
   },
   "outputs": [],
   "source": [
    "import numpy as np\n",
    "from numpy.linalg import norm"
   ]
  },
  {
   "cell_type": "code",
   "execution_count": 3,
   "metadata": {
    "cell_style": "split",
    "slideshow": {
     "slide_type": "fragment"
    }
   },
   "outputs": [
    {
     "data": {
      "text/plain": [
       "array([[1, 2],\n",
       "       [0, 3]])"
      ]
     },
     "execution_count": 3,
     "metadata": {},
     "output_type": "execute_result"
    }
   ],
   "source": [
    "A = np.array([[1,2],[0,3]])\n",
    "A"
   ]
  },
  {
   "cell_type": "code",
   "execution_count": 4,
   "metadata": {
    "cell_style": "split",
    "slideshow": {
     "slide_type": "fragment"
    }
   },
   "outputs": [
    {
     "data": {
      "text/plain": [
       "3.7416573867739413"
      ]
     },
     "execution_count": 4,
     "metadata": {},
     "output_type": "execute_result"
    }
   ],
   "source": [
    "norm(A, 'fro')"
   ]
  },
  {
   "cell_type": "code",
   "execution_count": 5,
   "metadata": {
    "cell_style": "split",
    "slideshow": {
     "slide_type": "fragment"
    }
   },
   "outputs": [
    {
     "data": {
      "text/plain": [
       "3.7416573867739413"
      ]
     },
     "execution_count": 5,
     "metadata": {},
     "output_type": "execute_result"
    }
   ],
   "source": [
    "np.sqrt(1**2 + 0**2 + 2**2 + 3**2)"
   ]
  },
  {
   "cell_type": "markdown",
   "metadata": {
    "cell_style": "center",
    "slideshow": {
     "slide_type": "slide"
    }
   },
   "source": [
    "Modiied objective functon:\n",
    "\n",
    "$$ J' = \\sum_{i=1}^m \\frac{1}{m}L(y_i, \\hat{y}_i) + \\frac{\\lambda}{2} \\sum_{l=1}^L \\lVert  W^{[l]}   \\rVert_F^2 $$"
   ]
  },
  {
   "cell_type": "markdown",
   "metadata": {
    "cell_style": "center",
    "slideshow": {
     "slide_type": "fragment"
    }
   },
   "source": [
    "Regularization serves to penalize any particular weight from being too large:\n",
    "- smoothens/redistributes weights for each weight matrix\n",
    "- aids in generalization"
   ]
  },
  {
   "cell_type": "markdown",
   "metadata": {
    "cell_style": "center",
    "slideshow": {
     "slide_type": "slide"
    }
   },
   "source": [
    "L2 regularization: often known as weight decay\n",
    "- Perspective: gradient descent\n",
    "$$ J' = \\sum_{i=1}^m \\frac{1}{m}L(y_i, \\hat{y}_i) + \\frac{\\lambda}{2} \\sum_{l=1}^L \\lVert  W^{[l]}   \\rVert_F^2 $$\n",
    "$$ W^{[l]} \\rightarrow W^{[l]} - \\alpha \\frac{\\partial J'}{\\partial W^{[l]}} $$ "
   ]
  },
  {
   "cell_type": "markdown",
   "metadata": {
    "cell_style": "center",
    "slideshow": {
     "slide_type": "slide"
    }
   },
   "source": [
    "$$ J = \\sum_{i=1}^m \\frac{1}{m}L(y_i, \\hat{y}_i) $$\n",
    "$$ W^{[l]} \\rightarrow \\Big(W^{[l]}  - \\alpha \\frac{\\lambda}{2 m}  W^{[l]} \\Big) - \\alpha \\frac{\\partial J}{\\partial W^{[l]}}$$ \n",
    "\n",
    "- At each iteration regularization tries to reduce magnitude of weight matrix."
   ]
  },
  {
   "cell_type": "markdown",
   "metadata": {
    "slideshow": {
     "slide_type": "slide"
    }
   },
   "source": [
    "#### Implementing L2 regularization in Keras"
   ]
  },
  {
   "cell_type": "code",
   "execution_count": 6,
   "metadata": {
    "slideshow": {
     "slide_type": "fragment"
    }
   },
   "outputs": [],
   "source": [
    "# creates keras regularizer object\n",
    "from tensorflow.keras.regularizers import l2"
   ]
  },
  {
   "cell_type": "markdown",
   "metadata": {
    "cell_style": "center",
    "slideshow": {
     "slide_type": "slide"
    }
   },
   "source": [
    "L2 regularizer object takes in $\\lambda$ parameter as argument"
   ]
  },
  {
   "cell_type": "code",
   "execution_count": 7,
   "metadata": {
    "cell_style": "center",
    "slideshow": {
     "slide_type": "fragment"
    }
   },
   "outputs": [],
   "source": [
    "reg = l2(3e-3) # 1e-5 to .1"
   ]
  },
  {
   "cell_type": "markdown",
   "metadata": {
    "cell_style": "center",
    "slideshow": {
     "slide_type": "slide"
    }
   },
   "source": [
    "Implementing regularization to weights in Keras:\n",
    "- Dense(kernel_regularizer = __)\n",
    "- takes in string ('l2') or regularizer object"
   ]
  },
  {
   "cell_type": "markdown",
   "metadata": {
    "cell_style": "center",
    "slideshow": {
     "slide_type": "fragment"
    }
   },
   "source": [
    "Less common but also used:\n",
    "\n",
    "- can apply regularization to bias terms \n",
    "- Dense(bias_regularizer = __)"
   ]
  },
  {
   "cell_type": "code",
   "execution_count": 8,
   "metadata": {
    "slideshow": {
     "slide_type": "slide"
    }
   },
   "outputs": [],
   "source": [
    "# load in the data\n",
    "(x_train, y_train), (x_test, y_test) = datasets.mnist.load_data()\n",
    "\n",
    "x_train = x_train/255 # normalization\n",
    "x_test = x_test/255\n",
    "\n",
    "# Keras requires multi-class labels to be one-hot encoded\n",
    "y_tr_one_hot = to_categorical(y_train)\n",
    "y_tt_one_hot = to_categorical(y_test)"
   ]
  },
  {
   "cell_type": "code",
   "execution_count": 9,
   "metadata": {
    "slideshow": {
     "slide_type": "slide"
    }
   },
   "outputs": [
    {
     "name": "stderr",
     "output_type": "stream",
     "text": [
      "2023-10-17 09:25:03.384358: I tensorflow/core/platform/cpu_feature_guard.cc:193] This TensorFlow binary is optimized with oneAPI Deep Neural Network Library (oneDNN) to use the following CPU instructions in performance-critical operations:  SSE4.1 SSE4.2\n",
      "To enable them in other operations, rebuild TensorFlow with the appropriate compiler flags.\n"
     ]
    }
   ],
   "source": [
    "model_images = Sequential()\n",
    "model_images.add(Flatten(input_shape=(28, 28))) # flattens each 28x28 image into a vector\n",
    "model_images.add(Dense(32, activation='relu', kernel_regularizer = reg)) # take in regularizer\n",
    "model_images.add(Dense(8, activation='relu', kernel_regularizer = reg))\n",
    "model_images.add(Dense(10, activation='softmax')) # number of units = number of target classes"
   ]
  },
  {
   "cell_type": "code",
   "execution_count": 10,
   "metadata": {
    "slideshow": {
     "slide_type": "fragment"
    }
   },
   "outputs": [],
   "source": [
    "model_images.compile(optimizer='Adam', loss='categorical_crossentropy', metrics=['accuracy'] )"
   ]
  },
  {
   "cell_type": "code",
   "execution_count": 11,
   "metadata": {
    "scrolled": false,
    "slideshow": {
     "slide_type": "slide"
    }
   },
   "outputs": [
    {
     "name": "stdout",
     "output_type": "stream",
     "text": [
      "Epoch 1/50\n",
      "1500/1500 [==============================] - 2s 1ms/step - loss: 0.6772 - accuracy: 0.8492 - val_loss: 0.4598 - val_accuracy: 0.9191\n",
      "Epoch 2/50\n",
      "1500/1500 [==============================] - 1s 967us/step - loss: 0.4466 - accuracy: 0.9177 - val_loss: 0.4004 - val_accuracy: 0.9321\n",
      "Epoch 3/50\n",
      "1500/1500 [==============================] - 1s 955us/step - loss: 0.4022 - accuracy: 0.9298 - val_loss: 0.3634 - val_accuracy: 0.9433\n",
      "Epoch 4/50\n",
      "1500/1500 [==============================] - 1s 956us/step - loss: 0.3726 - accuracy: 0.9372 - val_loss: 0.3561 - val_accuracy: 0.9452\n",
      "Epoch 5/50\n",
      "1500/1500 [==============================] - 1s 962us/step - loss: 0.3511 - accuracy: 0.9427 - val_loss: 0.3326 - val_accuracy: 0.9484\n",
      "Epoch 6/50\n",
      "1500/1500 [==============================] - 1s 956us/step - loss: 0.3340 - accuracy: 0.9453 - val_loss: 0.3186 - val_accuracy: 0.9507\n",
      "Epoch 7/50\n",
      "1500/1500 [==============================] - 1s 959us/step - loss: 0.3211 - accuracy: 0.9471 - val_loss: 0.3017 - val_accuracy: 0.9545\n",
      "Epoch 8/50\n",
      "1500/1500 [==============================] - 1s 960us/step - loss: 0.3080 - accuracy: 0.9512 - val_loss: 0.3041 - val_accuracy: 0.9548\n",
      "Epoch 9/50\n",
      "1500/1500 [==============================] - 1s 971us/step - loss: 0.2994 - accuracy: 0.9511 - val_loss: 0.2821 - val_accuracy: 0.9579\n",
      "Epoch 10/50\n",
      "1500/1500 [==============================] - 1s 954us/step - loss: 0.2900 - accuracy: 0.9535 - val_loss: 0.2927 - val_accuracy: 0.9513\n",
      "Epoch 11/50\n",
      "1500/1500 [==============================] - 1s 959us/step - loss: 0.2840 - accuracy: 0.9549 - val_loss: 0.2899 - val_accuracy: 0.9545\n",
      "Epoch 12/50\n",
      "1500/1500 [==============================] - 1s 983us/step - loss: 0.2783 - accuracy: 0.9550 - val_loss: 0.2666 - val_accuracy: 0.9595\n",
      "Epoch 13/50\n",
      "1500/1500 [==============================] - 1s 969us/step - loss: 0.2714 - accuracy: 0.9563 - val_loss: 0.2741 - val_accuracy: 0.9552\n",
      "Epoch 14/50\n",
      "1500/1500 [==============================] - 1s 960us/step - loss: 0.2651 - accuracy: 0.9586 - val_loss: 0.2665 - val_accuracy: 0.9568\n",
      "Epoch 15/50\n",
      "1500/1500 [==============================] - 1s 952us/step - loss: 0.2622 - accuracy: 0.9573 - val_loss: 0.2739 - val_accuracy: 0.9528\n",
      "Epoch 16/50\n",
      "1500/1500 [==============================] - 1s 954us/step - loss: 0.2575 - accuracy: 0.9590 - val_loss: 0.2567 - val_accuracy: 0.9601\n",
      "Epoch 17/50\n",
      "1500/1500 [==============================] - 1s 953us/step - loss: 0.2515 - accuracy: 0.9600 - val_loss: 0.2476 - val_accuracy: 0.9597\n",
      "Epoch 18/50\n",
      "1500/1500 [==============================] - 1s 952us/step - loss: 0.2476 - accuracy: 0.9612 - val_loss: 0.2442 - val_accuracy: 0.9630\n",
      "Epoch 19/50\n",
      "1500/1500 [==============================] - 1s 953us/step - loss: 0.2475 - accuracy: 0.9604 - val_loss: 0.2486 - val_accuracy: 0.9607\n",
      "Epoch 20/50\n",
      "1500/1500 [==============================] - 1s 955us/step - loss: 0.2435 - accuracy: 0.9612 - val_loss: 0.2354 - val_accuracy: 0.9640\n",
      "Epoch 21/50\n",
      "1500/1500 [==============================] - 1s 951us/step - loss: 0.2414 - accuracy: 0.9618 - val_loss: 0.2405 - val_accuracy: 0.9608\n",
      "Epoch 22/50\n",
      "1500/1500 [==============================] - 1s 951us/step - loss: 0.2371 - accuracy: 0.9618 - val_loss: 0.2508 - val_accuracy: 0.9565\n",
      "Epoch 23/50\n",
      "1500/1500 [==============================] - 1s 953us/step - loss: 0.2366 - accuracy: 0.9622 - val_loss: 0.2421 - val_accuracy: 0.9626\n",
      "Epoch 24/50\n",
      "1500/1500 [==============================] - 1s 953us/step - loss: 0.2342 - accuracy: 0.9618 - val_loss: 0.2397 - val_accuracy: 0.9595\n",
      "Epoch 25/50\n",
      "1500/1500 [==============================] - 1s 954us/step - loss: 0.2329 - accuracy: 0.9626 - val_loss: 0.2363 - val_accuracy: 0.9621\n",
      "Epoch 26/50\n",
      "1500/1500 [==============================] - 1s 950us/step - loss: 0.2299 - accuracy: 0.9620 - val_loss: 0.2377 - val_accuracy: 0.9617\n",
      "Epoch 27/50\n",
      "1500/1500 [==============================] - 1s 951us/step - loss: 0.2274 - accuracy: 0.9632 - val_loss: 0.2436 - val_accuracy: 0.9544\n",
      "Epoch 28/50\n",
      "1500/1500 [==============================] - 1s 951us/step - loss: 0.2266 - accuracy: 0.9634 - val_loss: 0.2289 - val_accuracy: 0.9628\n",
      "Epoch 29/50\n",
      "1500/1500 [==============================] - 1s 953us/step - loss: 0.2255 - accuracy: 0.9631 - val_loss: 0.2373 - val_accuracy: 0.9611\n",
      "Epoch 30/50\n",
      "1500/1500 [==============================] - 1s 950us/step - loss: 0.2227 - accuracy: 0.9637 - val_loss: 0.2321 - val_accuracy: 0.9602\n",
      "Epoch 31/50\n",
      "1500/1500 [==============================] - 1s 952us/step - loss: 0.2231 - accuracy: 0.9630 - val_loss: 0.2281 - val_accuracy: 0.9620\n",
      "Epoch 32/50\n",
      "1500/1500 [==============================] - 1s 952us/step - loss: 0.2205 - accuracy: 0.9646 - val_loss: 0.2241 - val_accuracy: 0.9640\n",
      "Epoch 33/50\n",
      "1500/1500 [==============================] - 1s 953us/step - loss: 0.2209 - accuracy: 0.9635 - val_loss: 0.2406 - val_accuracy: 0.9547\n",
      "Epoch 34/50\n",
      "1500/1500 [==============================] - 1s 952us/step - loss: 0.2166 - accuracy: 0.9644 - val_loss: 0.2195 - val_accuracy: 0.9650\n",
      "Epoch 35/50\n",
      "1500/1500 [==============================] - 1s 953us/step - loss: 0.2155 - accuracy: 0.9645 - val_loss: 0.2218 - val_accuracy: 0.9601\n",
      "Epoch 36/50\n",
      "1500/1500 [==============================] - 1s 949us/step - loss: 0.2154 - accuracy: 0.9642 - val_loss: 0.2082 - val_accuracy: 0.9663\n",
      "Epoch 37/50\n",
      "1500/1500 [==============================] - 1s 949us/step - loss: 0.2135 - accuracy: 0.9643 - val_loss: 0.2249 - val_accuracy: 0.9616\n",
      "Epoch 38/50\n",
      "1500/1500 [==============================] - 1s 953us/step - loss: 0.2128 - accuracy: 0.9646 - val_loss: 0.2396 - val_accuracy: 0.9544\n",
      "Epoch 39/50\n",
      "1500/1500 [==============================] - 1s 952us/step - loss: 0.2105 - accuracy: 0.9660 - val_loss: 0.2113 - val_accuracy: 0.9661\n",
      "Epoch 40/50\n",
      "1500/1500 [==============================] - 1s 954us/step - loss: 0.2092 - accuracy: 0.9656 - val_loss: 0.2122 - val_accuracy: 0.9647\n",
      "Epoch 41/50\n",
      "1500/1500 [==============================] - 1s 954us/step - loss: 0.2104 - accuracy: 0.9648 - val_loss: 0.2202 - val_accuracy: 0.9633\n",
      "Epoch 42/50\n",
      "1500/1500 [==============================] - 1s 952us/step - loss: 0.2087 - accuracy: 0.9651 - val_loss: 0.2240 - val_accuracy: 0.9617\n",
      "Epoch 43/50\n",
      "1500/1500 [==============================] - 1s 951us/step - loss: 0.2107 - accuracy: 0.9647 - val_loss: 0.2126 - val_accuracy: 0.9648\n",
      "Epoch 44/50\n",
      "1500/1500 [==============================] - 1s 945us/step - loss: 0.2092 - accuracy: 0.9651 - val_loss: 0.2161 - val_accuracy: 0.9642\n",
      "Epoch 45/50\n",
      "1500/1500 [==============================] - 1s 951us/step - loss: 0.2065 - accuracy: 0.9657 - val_loss: 0.2400 - val_accuracy: 0.9542\n",
      "Epoch 46/50\n",
      "1500/1500 [==============================] - 1s 951us/step - loss: 0.2071 - accuracy: 0.9651 - val_loss: 0.2120 - val_accuracy: 0.9643\n",
      "Epoch 47/50\n",
      "1500/1500 [==============================] - 1s 951us/step - loss: 0.2032 - accuracy: 0.9660 - val_loss: 0.2144 - val_accuracy: 0.9627\n",
      "Epoch 48/50\n",
      "1500/1500 [==============================] - 1s 952us/step - loss: 0.2047 - accuracy: 0.9650 - val_loss: 0.2207 - val_accuracy: 0.9601\n",
      "Epoch 49/50\n",
      "1500/1500 [==============================] - 1s 953us/step - loss: 0.2051 - accuracy: 0.9654 - val_loss: 0.2172 - val_accuracy: 0.9615\n",
      "Epoch 50/50\n",
      "1500/1500 [==============================] - 1s 954us/step - loss: 0.2054 - accuracy: 0.9644 - val_loss: 0.2041 - val_accuracy: 0.9656\n"
     ]
    }
   ],
   "source": [
    "# verbose=1 allows you to see the output.\n",
    "# To see only the metrics at the end of each epoch, set verbose=2.\n",
    "history_mnist = model_images.fit(x_train, y_tr_one_hot, epochs=50, batch_size= 32, validation_split = 0.2)"
   ]
  },
  {
   "cell_type": "code",
   "execution_count": 12,
   "metadata": {
    "cell_style": "center",
    "slideshow": {
     "slide_type": "slide"
    }
   },
   "outputs": [
    {
     "name": "stdout",
     "output_type": "stream",
     "text": [
      "313/313 [==============================] - 0s 493us/step\n"
     ]
    },
    {
     "data": {
      "text/plain": [
       "array([[4.8653283e-07, 7.3365061e-07, 1.8081132e-04, ..., 9.9969077e-01,\n",
       "        3.3621373e-07, 2.0598850e-06],\n",
       "       [5.6433646e-06, 8.8890019e-06, 9.9800450e-01, ..., 2.0915037e-07,\n",
       "        1.5407297e-04, 1.3763994e-11],\n",
       "       [1.0093684e-05, 9.7770965e-01, 4.3782587e-03, ..., 8.4645189e-03,\n",
       "        5.5356617e-03, 6.2026652e-06],\n",
       "       ...,\n",
       "       [8.1638063e-10, 1.3396095e-05, 1.1896254e-08, ..., 8.6430387e-05,\n",
       "        1.8769191e-05, 9.9937245e-03],\n",
       "       [3.2245325e-06, 5.2219093e-07, 2.3712545e-07, ..., 1.9411843e-07,\n",
       "        1.0340876e-03, 3.4877763e-07],\n",
       "       [1.4831142e-04, 4.2180577e-08, 1.6740875e-04, ..., 6.6222583e-11,\n",
       "        3.3023218e-06, 4.8142219e-09]], dtype=float32)"
      ]
     },
     "execution_count": 12,
     "metadata": {},
     "output_type": "execute_result"
    }
   ],
   "source": [
    "# probability for each class\n",
    "y_proba = model_images.predict(x_test)\n",
    "y_proba"
   ]
  },
  {
   "cell_type": "code",
   "execution_count": 13,
   "metadata": {
    "cell_style": "center",
    "slideshow": {
     "slide_type": "fragment"
    }
   },
   "outputs": [
    {
     "name": "stdout",
     "output_type": "stream",
     "text": [
      "313/313 - 0s - loss: 0.2022 - accuracy: 0.9649 - 241ms/epoch - 770us/step\n"
     ]
    },
    {
     "data": {
      "text/plain": [
       "[0.20217224955558777, 0.964900016784668]"
      ]
     },
     "execution_count": 13,
     "metadata": {},
     "output_type": "execute_result"
    }
   ],
   "source": [
    "model_images.evaluate(x_test, y_tt_one_hot, verbose = 2)"
   ]
  },
  {
   "cell_type": "code",
   "execution_count": 14,
   "metadata": {
    "cell_style": "center",
    "slideshow": {
     "slide_type": "slide"
    }
   },
   "outputs": [
    {
     "data": {
      "image/png": "[encoded data removed]",
      "text/plain": [
       "<Figure size 640x480 with 1 Axes>"
      ]
     },
     "metadata": {},
     "output_type": "display_data"
    }
   ],
   "source": [
    "train_mnist_history = pd.DataFrame(history_mnist.history)\n",
    "train_mnist_history.index.name = 'epochs'\n",
    "\n",
    "col_list = ['loss', 'val_loss']\n",
    "train_mnist_history[col_list].plot()\n",
    "plt.ylabel('Categorical cross entropy')\n",
    "plt.title('Training loss history')\n",
    "plt.show()"
   ]
  },
  {
   "cell_type": "code",
   "execution_count": 15,
   "metadata": {
    "cell_style": "split",
    "slideshow": {
     "slide_type": "slide"
    }
   },
   "outputs": [
    {
     "data": {
      "image/png": "[encoded data removed]",
      "text/plain": [
       "<Figure size 640x480 with 1 Axes>"
      ]
     },
     "metadata": {},
     "output_type": "display_data"
    }
   ],
   "source": [
    "col_list = ['accuracy', 'val_accuracy']\n",
    "train_mnist_history[col_list].plot()\n",
    "plt.ylabel('Accuracy')\n",
    "plt.title('Training loss history')\n",
    "plt.show()"
   ]
  },
  {
   "cell_type": "markdown",
   "metadata": {
    "cell_style": "split",
    "slideshow": {
     "slide_type": "fragment"
    }
   },
   "source": [
    "Better validation accuracy:\n",
    "- 94.5\\% to 96.3\\% with regularization\n",
    "- no overfitting"
   ]
  },
  {
   "cell_type": "code",
   "execution_count": 16,
   "metadata": {
    "slideshow": {
     "slide_type": "slide"
    }
   },
   "outputs": [
    {
     "data": {
      "text/plain": [
       "array([7, 2, 1, ..., 4, 5, 6])"
      ]
     },
     "execution_count": 16,
     "metadata": {},
     "output_type": "execute_result"
    }
   ],
   "source": [
    "# argmax axis = -1 gets the column index of maximum probability for each row.\n",
    "# column index corresponds to digit classes (numbers 0 -9)\n",
    "predicted = np.argmax(y_proba, axis=-1)\n",
    "predicted"
   ]
  },
  {
   "cell_type": "code",
   "execution_count": 17,
   "metadata": {
    "cell_style": "center",
    "scrolled": true,
    "slideshow": {
     "slide_type": "slide"
    }
   },
   "outputs": [
    {
     "data": {
      "image/png": "[encoded data removed]",
      "text/plain": [
       "<Figure size 640x480 with 2 Axes>"
      ]
     },
     "metadata": {},
     "output_type": "display_data"
    }
   ],
   "source": [
    "cm_digits = confusion_matrix(y_test, predicted)\n",
    "disp = ConfusionMatrixDisplay(\n",
    "    confusion_matrix=cm_digits)\n",
    "\n",
    "disp.plot(cmap=plt.cm.Blues)\n",
    "plt.show()"
   ]
  },
  {
   "cell_type": "markdown",
   "metadata": {
    "slideshow": {
     "slide_type": "slide"
    }
   },
   "source": [
    "Regularization: \n",
    "- key component to training deeper networks (tend to overfit without regularization)\n",
    "- learn higher order features, but don't overtrain on specifics."
   ]
  },
  {
   "cell_type": "code",
   "execution_count": 18,
   "metadata": {
    "slideshow": {
     "slide_type": "fragment"
    }
   },
   "outputs": [],
   "source": [
    "deepermodel_images = Sequential()\n",
    "deepermodel_images.add(Flatten(input_shape=(28, 28))) # flattens each 28x28 image into a vector\n",
    "deepermodel_images.add(Dense(32, activation='relu', kernel_regularizer = reg)) # take in regularizer\n",
    "deepermodel_images.add(Dense(16, activation='relu', kernel_regularizer = reg)) # add another layer\n",
    "deepermodel_images.add(Dense(16, activation='relu', kernel_regularizer = reg)) # add another layer\n",
    "deepermodel_images.add(Dense(10, activation='relu', kernel_regularizer = reg))\n",
    "deepermodel_images.add(Dense(10, activation='softmax')) # number of units = number of target classes\n",
    "\n",
    "deepermodel_images.compile(optimizer='Adam', loss='categorical_crossentropy', metrics=['accuracy'] )"
   ]
  },
  {
   "cell_type": "code",
   "execution_count": 19,
   "metadata": {
    "slideshow": {
     "slide_type": "slide"
    }
   },
   "outputs": [
    {
     "name": "stdout",
     "output_type": "stream",
     "text": [
      "Epoch 1/200\n",
      "1500/1500 [==============================] - 2s 1ms/step - loss: 0.8552 - accuracy: 0.8028 - val_loss: 0.5068 - val_accuracy: 0.9203\n",
      "Epoch 2/200\n",
      "1500/1500 [==============================] - 1s 989us/step - loss: 0.4869 - accuracy: 0.9237 - val_loss: 0.4286 - val_accuracy: 0.9390\n",
      "Epoch 3/200\n",
      "1500/1500 [==============================] - 1s 992us/step - loss: 0.4283 - accuracy: 0.9357 - val_loss: 0.3961 - val_accuracy: 0.9474\n",
      "Epoch 4/200\n",
      "1500/1500 [==============================] - 1s 990us/step - loss: 0.3939 - accuracy: 0.9448 - val_loss: 0.3661 - val_accuracy: 0.9520\n",
      "Epoch 5/200\n",
      "1500/1500 [==============================] - 1s 991us/step - loss: 0.3736 - accuracy: 0.9473 - val_loss: 0.3562 - val_accuracy: 0.9516\n",
      "Epoch 6/200\n",
      "1500/1500 [==============================] - 1s 989us/step - loss: 0.3571 - accuracy: 0.9513 - val_loss: 0.3391 - val_accuracy: 0.9576\n",
      "Epoch 7/200\n",
      "1500/1500 [==============================] - 1s 987us/step - loss: 0.3443 - accuracy: 0.9535 - val_loss: 0.3264 - val_accuracy: 0.9592\n",
      "Epoch 8/200\n",
      "1500/1500 [==============================] - 1s 989us/step - loss: 0.3364 - accuracy: 0.9541 - val_loss: 0.3291 - val_accuracy: 0.9567\n",
      "Epoch 9/200\n",
      "1500/1500 [==============================] - 1s 989us/step - loss: 0.3275 - accuracy: 0.9565 - val_loss: 0.3319 - val_accuracy: 0.9565\n",
      "Epoch 10/200\n",
      "1500/1500 [==============================] - 1s 988us/step - loss: 0.3219 - accuracy: 0.9565 - val_loss: 0.3191 - val_accuracy: 0.9574\n",
      "Epoch 11/200\n",
      "1500/1500 [==============================] - 1s 988us/step - loss: 0.3165 - accuracy: 0.9564 - val_loss: 0.3317 - val_accuracy: 0.9534\n",
      "Epoch 12/200\n",
      "1500/1500 [==============================] - 1s 989us/step - loss: 0.3114 - accuracy: 0.9585 - val_loss: 0.3173 - val_accuracy: 0.9567\n",
      "Epoch 13/200\n",
      "1500/1500 [==============================] - 1s 988us/step - loss: 0.3076 - accuracy: 0.9584 - val_loss: 0.3061 - val_accuracy: 0.9592\n",
      "Epoch 14/200\n",
      "1500/1500 [==============================] - 1s 994us/step - loss: 0.3035 - accuracy: 0.9583 - val_loss: 0.3190 - val_accuracy: 0.9560\n",
      "Epoch 15/200\n",
      "1500/1500 [==============================] - 1s 987us/step - loss: 0.3009 - accuracy: 0.9587 - val_loss: 0.2997 - val_accuracy: 0.9599\n",
      "Epoch 16/200\n",
      "1500/1500 [==============================] - 1s 987us/step - loss: 0.2987 - accuracy: 0.9590 - val_loss: 0.2962 - val_accuracy: 0.9583\n",
      "Epoch 17/200\n",
      "1500/1500 [==============================] - 1s 986us/step - loss: 0.2940 - accuracy: 0.9592 - val_loss: 0.3194 - val_accuracy: 0.9525\n",
      "Epoch 18/200\n",
      "1500/1500 [==============================] - 1s 995us/step - loss: 0.2904 - accuracy: 0.9592 - val_loss: 0.2985 - val_accuracy: 0.9592\n",
      "Epoch 19/200\n",
      "1500/1500 [==============================] - 1s 990us/step - loss: 0.2895 - accuracy: 0.9593 - val_loss: 0.2816 - val_accuracy: 0.9607\n",
      "Epoch 20/200\n",
      "1500/1500 [==============================] - 1s 987us/step - loss: 0.2844 - accuracy: 0.9609 - val_loss: 0.2996 - val_accuracy: 0.9579\n",
      "Epoch 21/200\n",
      "1500/1500 [==============================] - 1s 986us/step - loss: 0.2872 - accuracy: 0.9586 - val_loss: 0.3122 - val_accuracy: 0.9484\n",
      "Epoch 22/200\n",
      "1500/1500 [==============================] - 1s 988us/step - loss: 0.2832 - accuracy: 0.9604 - val_loss: 0.2877 - val_accuracy: 0.9583\n",
      "Epoch 23/200\n",
      "1500/1500 [==============================] - 1s 991us/step - loss: 0.2799 - accuracy: 0.9606 - val_loss: 0.2954 - val_accuracy: 0.9572\n",
      "Epoch 24/200\n",
      "1500/1500 [==============================] - 1s 983us/step - loss: 0.2792 - accuracy: 0.9616 - val_loss: 0.2863 - val_accuracy: 0.9582\n",
      "Epoch 25/200\n",
      "1500/1500 [==============================] - 1s 987us/step - loss: 0.2785 - accuracy: 0.9602 - val_loss: 0.2914 - val_accuracy: 0.9572\n",
      "Epoch 26/200\n",
      "1500/1500 [==============================] - 1s 991us/step - loss: 0.2767 - accuracy: 0.9609 - val_loss: 0.2948 - val_accuracy: 0.9551\n",
      "Epoch 27/200\n",
      "1500/1500 [==============================] - 1s 985us/step - loss: 0.2736 - accuracy: 0.9613 - val_loss: 0.2736 - val_accuracy: 0.9607\n",
      "Epoch 28/200\n",
      "1500/1500 [==============================] - 1s 987us/step - loss: 0.2747 - accuracy: 0.9609 - val_loss: 0.2904 - val_accuracy: 0.9556\n",
      "Epoch 29/200\n",
      "1500/1500 [==============================] - 1s 993us/step - loss: 0.2711 - accuracy: 0.9618 - val_loss: 0.2803 - val_accuracy: 0.9574\n",
      "Epoch 30/200\n",
      "1500/1500 [==============================] - 1s 985us/step - loss: 0.2703 - accuracy: 0.9617 - val_loss: 0.2750 - val_accuracy: 0.9613\n",
      "Epoch 31/200\n",
      "1500/1500 [==============================] - 1s 991us/step - loss: 0.2693 - accuracy: 0.9613 - val_loss: 0.2792 - val_accuracy: 0.9592\n",
      "Epoch 32/200\n",
      "1500/1500 [==============================] - 1s 993us/step - loss: 0.2673 - accuracy: 0.9623 - val_loss: 0.2663 - val_accuracy: 0.9629\n",
      "Epoch 33/200\n",
      "1500/1500 [==============================] - 1s 989us/step - loss: 0.2683 - accuracy: 0.9614 - val_loss: 0.2598 - val_accuracy: 0.9640\n",
      "Epoch 34/200\n",
      "1500/1500 [==============================] - 1s 989us/step - loss: 0.2668 - accuracy: 0.9615 - val_loss: 0.2781 - val_accuracy: 0.9613\n",
      "Epoch 35/200\n",
      "1500/1500 [==============================] - 1s 988us/step - loss: 0.2650 - accuracy: 0.9615 - val_loss: 0.2690 - val_accuracy: 0.9608\n",
      "Epoch 36/200\n",
      "1500/1500 [==============================] - 1s 991us/step - loss: 0.2617 - accuracy: 0.9632 - val_loss: 0.2815 - val_accuracy: 0.9540\n",
      "Epoch 37/200\n",
      "1500/1500 [==============================] - 1s 990us/step - loss: 0.2597 - accuracy: 0.9632 - val_loss: 0.2634 - val_accuracy: 0.9620\n",
      "Epoch 38/200\n",
      "1500/1500 [==============================] - 1s 991us/step - loss: 0.2618 - accuracy: 0.9617 - val_loss: 0.2698 - val_accuracy: 0.9588\n",
      "Epoch 39/200\n",
      "1500/1500 [==============================] - 1s 990us/step - loss: 0.2614 - accuracy: 0.9619 - val_loss: 0.2705 - val_accuracy: 0.9594\n",
      "Epoch 40/200\n",
      "1500/1500 [==============================] - 1s 989us/step - loss: 0.2584 - accuracy: 0.9619 - val_loss: 0.2641 - val_accuracy: 0.9608\n",
      "Epoch 41/200\n",
      "1500/1500 [==============================] - 1s 987us/step - loss: 0.2585 - accuracy: 0.9626 - val_loss: 0.2795 - val_accuracy: 0.9555\n",
      "Epoch 42/200\n",
      "1500/1500 [==============================] - 1s 988us/step - loss: 0.2559 - accuracy: 0.9632 - val_loss: 0.2632 - val_accuracy: 0.9592\n",
      "Epoch 43/200\n",
      "1500/1500 [==============================] - 1s 989us/step - loss: 0.2570 - accuracy: 0.9632 - val_loss: 0.2760 - val_accuracy: 0.9572\n",
      "Epoch 44/200\n",
      "1500/1500 [==============================] - 1s 989us/step - loss: 0.2557 - accuracy: 0.9623 - val_loss: 0.2700 - val_accuracy: 0.9597\n",
      "Epoch 45/200\n",
      "1500/1500 [==============================] - 1s 989us/step - loss: 0.2555 - accuracy: 0.9630 - val_loss: 0.2703 - val_accuracy: 0.9564\n",
      "Epoch 46/200\n",
      "1500/1500 [==============================] - 1s 988us/step - loss: 0.2545 - accuracy: 0.9631 - val_loss: 0.2589 - val_accuracy: 0.9632\n",
      "Epoch 47/200\n",
      "1500/1500 [==============================] - 1s 991us/step - loss: 0.2533 - accuracy: 0.9629 - val_loss: 0.2746 - val_accuracy: 0.9561\n",
      "Epoch 48/200\n",
      "1500/1500 [==============================] - 1s 990us/step - loss: 0.2519 - accuracy: 0.9640 - val_loss: 0.2735 - val_accuracy: 0.9555\n",
      "Epoch 49/200\n",
      "1500/1500 [==============================] - 1s 986us/step - loss: 0.2511 - accuracy: 0.9629 - val_loss: 0.2616 - val_accuracy: 0.9617\n",
      "Epoch 50/200\n",
      "1500/1500 [==============================] - 1s 987us/step - loss: 0.2528 - accuracy: 0.9620 - val_loss: 0.2618 - val_accuracy: 0.9607\n",
      "Epoch 51/200\n",
      "1500/1500 [==============================] - 1s 987us/step - loss: 0.2492 - accuracy: 0.9636 - val_loss: 0.2629 - val_accuracy: 0.9600\n",
      "Epoch 52/200\n",
      "1500/1500 [==============================] - 1s 999us/step - loss: 0.2506 - accuracy: 0.9631 - val_loss: 0.2863 - val_accuracy: 0.9520\n",
      "Epoch 53/200\n",
      "1500/1500 [==============================] - 1s 989us/step - loss: 0.2500 - accuracy: 0.9626 - val_loss: 0.2605 - val_accuracy: 0.9602\n",
      "Epoch 54/200\n",
      "1500/1500 [==============================] - 1s 986us/step - loss: 0.2490 - accuracy: 0.9629 - val_loss: 0.2550 - val_accuracy: 0.9625\n",
      "Epoch 55/200\n",
      "1500/1500 [==============================] - 1s 984us/step - loss: 0.2469 - accuracy: 0.9632 - val_loss: 0.2534 - val_accuracy: 0.9631\n",
      "Epoch 56/200\n"
     ]
    },
    {
     "name": "stdout",
     "output_type": "stream",
     "text": [
      "1500/1500 [==============================] - 1s 988us/step - loss: 0.2501 - accuracy: 0.9620 - val_loss: 0.2872 - val_accuracy: 0.9538\n",
      "Epoch 57/200\n",
      "1500/1500 [==============================] - 1s 988us/step - loss: 0.2461 - accuracy: 0.9641 - val_loss: 0.2669 - val_accuracy: 0.9576\n",
      "Epoch 58/200\n",
      "1500/1500 [==============================] - 1s 989us/step - loss: 0.2446 - accuracy: 0.9645 - val_loss: 0.2543 - val_accuracy: 0.9623\n",
      "Epoch 59/200\n",
      "1500/1500 [==============================] - 1s 989us/step - loss: 0.2465 - accuracy: 0.9637 - val_loss: 0.2552 - val_accuracy: 0.9627\n",
      "Epoch 60/200\n",
      "1500/1500 [==============================] - 1s 989us/step - loss: 0.2481 - accuracy: 0.9628 - val_loss: 0.2490 - val_accuracy: 0.9668\n",
      "Epoch 61/200\n",
      "1500/1500 [==============================] - 1s 987us/step - loss: 0.2439 - accuracy: 0.9648 - val_loss: 0.2550 - val_accuracy: 0.9618\n",
      "Epoch 62/200\n",
      "1500/1500 [==============================] - 1s 991us/step - loss: 0.2455 - accuracy: 0.9634 - val_loss: 0.2474 - val_accuracy: 0.9626\n",
      "Epoch 63/200\n",
      "1500/1500 [==============================] - 1s 988us/step - loss: 0.2449 - accuracy: 0.9637 - val_loss: 0.2527 - val_accuracy: 0.9632\n",
      "Epoch 64/200\n",
      "1500/1500 [==============================] - 1s 988us/step - loss: 0.2444 - accuracy: 0.9630 - val_loss: 0.2577 - val_accuracy: 0.9598\n",
      "Epoch 65/200\n",
      "1500/1500 [==============================] - 1s 988us/step - loss: 0.2427 - accuracy: 0.9638 - val_loss: 0.2482 - val_accuracy: 0.9627\n",
      "Epoch 66/200\n",
      "1500/1500 [==============================] - 1s 987us/step - loss: 0.2428 - accuracy: 0.9631 - val_loss: 0.2626 - val_accuracy: 0.9575\n",
      "Epoch 67/200\n",
      "1500/1500 [==============================] - 1s 991us/step - loss: 0.2414 - accuracy: 0.9636 - val_loss: 0.2429 - val_accuracy: 0.9622\n",
      "Epoch 68/200\n",
      "1500/1500 [==============================] - 1s 988us/step - loss: 0.2413 - accuracy: 0.9644 - val_loss: 0.2592 - val_accuracy: 0.9595\n",
      "Epoch 69/200\n",
      "1500/1500 [==============================] - 1s 988us/step - loss: 0.2426 - accuracy: 0.9633 - val_loss: 0.2631 - val_accuracy: 0.9602\n",
      "Epoch 70/200\n",
      "1500/1500 [==============================] - 1s 987us/step - loss: 0.2400 - accuracy: 0.9650 - val_loss: 0.2628 - val_accuracy: 0.9586\n",
      "Epoch 71/200\n",
      "1500/1500 [==============================] - 1s 992us/step - loss: 0.2403 - accuracy: 0.9645 - val_loss: 0.2454 - val_accuracy: 0.9615\n",
      "Epoch 72/200\n",
      "1500/1500 [==============================] - 1s 992us/step - loss: 0.2396 - accuracy: 0.9638 - val_loss: 0.2446 - val_accuracy: 0.9640\n",
      "Epoch 73/200\n",
      "1500/1500 [==============================] - 1s 989us/step - loss: 0.2385 - accuracy: 0.9647 - val_loss: 0.2533 - val_accuracy: 0.9617\n",
      "Epoch 74/200\n",
      "1500/1500 [==============================] - 1s 989us/step - loss: 0.2382 - accuracy: 0.9652 - val_loss: 0.2451 - val_accuracy: 0.9632\n",
      "Epoch 75/200\n",
      "1500/1500 [==============================] - 1s 987us/step - loss: 0.2377 - accuracy: 0.9649 - val_loss: 0.2604 - val_accuracy: 0.9570\n",
      "Epoch 76/200\n",
      "1500/1500 [==============================] - 1s 990us/step - loss: 0.2372 - accuracy: 0.9647 - val_loss: 0.2519 - val_accuracy: 0.9596\n",
      "Epoch 77/200\n",
      "1500/1500 [==============================] - 1s 987us/step - loss: 0.2369 - accuracy: 0.9647 - val_loss: 0.2567 - val_accuracy: 0.9575\n",
      "Epoch 78/200\n",
      "1500/1500 [==============================] - 1s 991us/step - loss: 0.2383 - accuracy: 0.9644 - val_loss: 0.2530 - val_accuracy: 0.9602\n",
      "Epoch 79/200\n",
      "1500/1500 [==============================] - 1s 990us/step - loss: 0.2361 - accuracy: 0.9655 - val_loss: 0.2428 - val_accuracy: 0.9613\n",
      "Epoch 80/200\n",
      "1500/1500 [==============================] - 1s 987us/step - loss: 0.2372 - accuracy: 0.9643 - val_loss: 0.2550 - val_accuracy: 0.9594\n",
      "Epoch 81/200\n",
      "1500/1500 [==============================] - 1s 987us/step - loss: 0.2371 - accuracy: 0.9655 - val_loss: 0.2427 - val_accuracy: 0.9616\n",
      "Epoch 82/200\n",
      "1500/1500 [==============================] - 1s 989us/step - loss: 0.2352 - accuracy: 0.9646 - val_loss: 0.2464 - val_accuracy: 0.9631\n",
      "Epoch 83/200\n",
      "1500/1500 [==============================] - 1s 988us/step - loss: 0.2373 - accuracy: 0.9647 - val_loss: 0.2569 - val_accuracy: 0.9587\n",
      "Epoch 84/200\n",
      "1500/1500 [==============================] - 1s 988us/step - loss: 0.2368 - accuracy: 0.9640 - val_loss: 0.2523 - val_accuracy: 0.9607\n",
      "Epoch 85/200\n",
      "1500/1500 [==============================] - 1s 987us/step - loss: 0.2353 - accuracy: 0.9648 - val_loss: 0.2522 - val_accuracy: 0.9603\n",
      "Epoch 86/200\n",
      "1500/1500 [==============================] - 1s 988us/step - loss: 0.2348 - accuracy: 0.9652 - val_loss: 0.2504 - val_accuracy: 0.9591\n",
      "Epoch 87/200\n",
      "1500/1500 [==============================] - 1s 989us/step - loss: 0.2381 - accuracy: 0.9632 - val_loss: 0.2496 - val_accuracy: 0.9605\n",
      "Epoch 88/200\n",
      "1500/1500 [==============================] - 1s 987us/step - loss: 0.2353 - accuracy: 0.9648 - val_loss: 0.2521 - val_accuracy: 0.9588\n",
      "Epoch 89/200\n",
      "1500/1500 [==============================] - 1s 987us/step - loss: 0.2361 - accuracy: 0.9642 - val_loss: 0.2534 - val_accuracy: 0.9597\n",
      "Epoch 90/200\n",
      "1500/1500 [==============================] - 1s 986us/step - loss: 0.2331 - accuracy: 0.9652 - val_loss: 0.2497 - val_accuracy: 0.9612\n",
      "Epoch 91/200\n",
      "1500/1500 [==============================] - 1s 988us/step - loss: 0.2327 - accuracy: 0.9652 - val_loss: 0.2528 - val_accuracy: 0.9604\n",
      "Epoch 92/200\n",
      "1500/1500 [==============================] - 1s 996us/step - loss: 0.2339 - accuracy: 0.9640 - val_loss: 0.2519 - val_accuracy: 0.9590\n",
      "Epoch 93/200\n",
      "1500/1500 [==============================] - 1s 988us/step - loss: 0.2340 - accuracy: 0.9645 - val_loss: 0.2410 - val_accuracy: 0.9603\n",
      "Epoch 94/200\n",
      "1500/1500 [==============================] - 1s 990us/step - loss: 0.2328 - accuracy: 0.9658 - val_loss: 0.2640 - val_accuracy: 0.9549\n",
      "Epoch 95/200\n",
      "1500/1500 [==============================] - 1s 986us/step - loss: 0.2334 - accuracy: 0.9642 - val_loss: 0.2422 - val_accuracy: 0.9626\n",
      "Epoch 96/200\n",
      "1500/1500 [==============================] - 1s 987us/step - loss: 0.2332 - accuracy: 0.9652 - val_loss: 0.2572 - val_accuracy: 0.9580\n",
      "Epoch 97/200\n",
      "1500/1500 [==============================] - 1s 989us/step - loss: 0.2334 - accuracy: 0.9647 - val_loss: 0.2427 - val_accuracy: 0.9623\n",
      "Epoch 98/200\n",
      "1500/1500 [==============================] - 1s 989us/step - loss: 0.2324 - accuracy: 0.9652 - val_loss: 0.2439 - val_accuracy: 0.9622\n",
      "Epoch 99/200\n",
      "1500/1500 [==============================] - 1s 988us/step - loss: 0.2319 - accuracy: 0.9654 - val_loss: 0.2780 - val_accuracy: 0.9495\n",
      "Epoch 100/200\n",
      "1500/1500 [==============================] - 1s 988us/step - loss: 0.2328 - accuracy: 0.9634 - val_loss: 0.2394 - val_accuracy: 0.9619\n",
      "Epoch 101/200\n",
      "1500/1500 [==============================] - 1s 988us/step - loss: 0.2331 - accuracy: 0.9648 - val_loss: 0.2403 - val_accuracy: 0.9618\n",
      "Epoch 102/200\n",
      "1500/1500 [==============================] - 1s 988us/step - loss: 0.2334 - accuracy: 0.9638 - val_loss: 0.2345 - val_accuracy: 0.9639\n",
      "Epoch 103/200\n",
      "1500/1500 [==============================] - 1s 994us/step - loss: 0.2314 - accuracy: 0.9648 - val_loss: 0.2458 - val_accuracy: 0.9583\n",
      "Epoch 104/200\n",
      "1500/1500 [==============================] - 1s 987us/step - loss: 0.2310 - accuracy: 0.9656 - val_loss: 0.2406 - val_accuracy: 0.9617\n",
      "Epoch 105/200\n",
      "1500/1500 [==============================] - 1s 987us/step - loss: 0.2333 - accuracy: 0.9651 - val_loss: 0.2478 - val_accuracy: 0.9597\n",
      "Epoch 106/200\n",
      "1500/1500 [==============================] - 1s 986us/step - loss: 0.2299 - accuracy: 0.9650 - val_loss: 0.2347 - val_accuracy: 0.9637\n",
      "Epoch 107/200\n",
      "1500/1500 [==============================] - 1s 996us/step - loss: 0.2298 - accuracy: 0.9653 - val_loss: 0.2672 - val_accuracy: 0.9559\n",
      "Epoch 108/200\n",
      "1500/1500 [==============================] - 1s 986us/step - loss: 0.2316 - accuracy: 0.9649 - val_loss: 0.2420 - val_accuracy: 0.9620\n",
      "Epoch 109/200\n",
      "1500/1500 [==============================] - 1s 990us/step - loss: 0.2297 - accuracy: 0.9658 - val_loss: 0.2635 - val_accuracy: 0.9546\n",
      "Epoch 110/200\n",
      "1500/1500 [==============================] - 1s 986us/step - loss: 0.2317 - accuracy: 0.9653 - val_loss: 0.2426 - val_accuracy: 0.9621\n",
      "Epoch 111/200\n"
     ]
    },
    {
     "name": "stdout",
     "output_type": "stream",
     "text": [
      "1500/1500 [==============================] - 1s 985us/step - loss: 0.2284 - accuracy: 0.9660 - val_loss: 0.2509 - val_accuracy: 0.9577\n",
      "Epoch 112/200\n",
      "1500/1500 [==============================] - 1s 984us/step - loss: 0.2283 - accuracy: 0.9664 - val_loss: 0.2497 - val_accuracy: 0.9588\n",
      "Epoch 113/200\n",
      "1500/1500 [==============================] - 1s 982us/step - loss: 0.2281 - accuracy: 0.9649 - val_loss: 0.2397 - val_accuracy: 0.9622\n",
      "Epoch 114/200\n",
      "1500/1500 [==============================] - 1s 987us/step - loss: 0.2276 - accuracy: 0.9655 - val_loss: 0.2418 - val_accuracy: 0.9613\n",
      "Epoch 115/200\n",
      "1500/1500 [==============================] - 1s 983us/step - loss: 0.2281 - accuracy: 0.9650 - val_loss: 0.2314 - val_accuracy: 0.9650\n",
      "Epoch 116/200\n",
      "1500/1500 [==============================] - 2s 1ms/step - loss: 0.2282 - accuracy: 0.9657 - val_loss: 0.2458 - val_accuracy: 0.9624\n",
      "Epoch 117/200\n",
      "1500/1500 [==============================] - 2s 1ms/step - loss: 0.2269 - accuracy: 0.9660 - val_loss: 0.2589 - val_accuracy: 0.9563\n",
      "Epoch 118/200\n",
      "1500/1500 [==============================] - 1s 993us/step - loss: 0.2284 - accuracy: 0.9645 - val_loss: 0.2472 - val_accuracy: 0.9588\n",
      "Epoch 119/200\n",
      "1500/1500 [==============================] - 1s 991us/step - loss: 0.2284 - accuracy: 0.9651 - val_loss: 0.2573 - val_accuracy: 0.9578\n",
      "Epoch 120/200\n",
      "1500/1500 [==============================] - 2s 1ms/step - loss: 0.2263 - accuracy: 0.9670 - val_loss: 0.2403 - val_accuracy: 0.9626\n",
      "Epoch 121/200\n",
      "1500/1500 [==============================] - 1s 990us/step - loss: 0.2271 - accuracy: 0.9657 - val_loss: 0.2443 - val_accuracy: 0.9605\n",
      "Epoch 122/200\n",
      "1500/1500 [==============================] - 1s 990us/step - loss: 0.2263 - accuracy: 0.9656 - val_loss: 0.2410 - val_accuracy: 0.9624\n",
      "Epoch 123/200\n",
      "1500/1500 [==============================] - 1s 989us/step - loss: 0.2278 - accuracy: 0.9656 - val_loss: 0.2329 - val_accuracy: 0.9643\n",
      "Epoch 124/200\n",
      "1500/1500 [==============================] - 1s 988us/step - loss: 0.2293 - accuracy: 0.9648 - val_loss: 0.2531 - val_accuracy: 0.9578\n",
      "Epoch 125/200\n",
      "1500/1500 [==============================] - 1s 987us/step - loss: 0.2287 - accuracy: 0.9652 - val_loss: 0.2416 - val_accuracy: 0.9613\n",
      "Epoch 126/200\n",
      "1500/1500 [==============================] - 1s 989us/step - loss: 0.2277 - accuracy: 0.9662 - val_loss: 0.2412 - val_accuracy: 0.9607\n",
      "Epoch 127/200\n",
      "1500/1500 [==============================] - 1s 988us/step - loss: 0.2278 - accuracy: 0.9658 - val_loss: 0.2333 - val_accuracy: 0.9637\n",
      "Epoch 128/200\n",
      "1500/1500 [==============================] - 1s 988us/step - loss: 0.2235 - accuracy: 0.9666 - val_loss: 0.2663 - val_accuracy: 0.9536\n",
      "Epoch 129/200\n",
      "1500/1500 [==============================] - 1s 991us/step - loss: 0.2264 - accuracy: 0.9662 - val_loss: 0.2472 - val_accuracy: 0.9601\n",
      "Epoch 130/200\n",
      "1500/1500 [==============================] - 1s 989us/step - loss: 0.2282 - accuracy: 0.9649 - val_loss: 0.2506 - val_accuracy: 0.9603\n",
      "Epoch 131/200\n",
      "1500/1500 [==============================] - 1s 988us/step - loss: 0.2231 - accuracy: 0.9660 - val_loss: 0.2430 - val_accuracy: 0.9619\n",
      "Epoch 132/200\n",
      "1500/1500 [==============================] - 1s 988us/step - loss: 0.2281 - accuracy: 0.9650 - val_loss: 0.2439 - val_accuracy: 0.9590\n",
      "Epoch 133/200\n",
      "1500/1500 [==============================] - 1s 985us/step - loss: 0.2247 - accuracy: 0.9663 - val_loss: 0.2413 - val_accuracy: 0.9622\n",
      "Epoch 134/200\n",
      "1500/1500 [==============================] - 1s 988us/step - loss: 0.2264 - accuracy: 0.9652 - val_loss: 0.2470 - val_accuracy: 0.9576\n",
      "Epoch 135/200\n",
      "1500/1500 [==============================] - 1s 986us/step - loss: 0.2239 - accuracy: 0.9653 - val_loss: 0.2323 - val_accuracy: 0.9644\n",
      "Epoch 136/200\n",
      "1500/1500 [==============================] - 1s 986us/step - loss: 0.2238 - accuracy: 0.9665 - val_loss: 0.2480 - val_accuracy: 0.9581\n",
      "Epoch 137/200\n",
      "1500/1500 [==============================] - 1s 987us/step - loss: 0.2242 - accuracy: 0.9660 - val_loss: 0.2456 - val_accuracy: 0.9588\n",
      "Epoch 138/200\n",
      "1500/1500 [==============================] - 1s 986us/step - loss: 0.2241 - accuracy: 0.9663 - val_loss: 0.2306 - val_accuracy: 0.9652\n",
      "Epoch 139/200\n",
      "1500/1500 [==============================] - 1s 989us/step - loss: 0.2241 - accuracy: 0.9658 - val_loss: 0.2469 - val_accuracy: 0.9597\n",
      "Epoch 140/200\n",
      "1500/1500 [==============================] - 1s 986us/step - loss: 0.2248 - accuracy: 0.9657 - val_loss: 0.2400 - val_accuracy: 0.9611\n",
      "Epoch 141/200\n",
      "1500/1500 [==============================] - 1s 990us/step - loss: 0.2270 - accuracy: 0.9656 - val_loss: 0.2278 - val_accuracy: 0.9655\n",
      "Epoch 142/200\n",
      "1500/1500 [==============================] - 1s 985us/step - loss: 0.2234 - accuracy: 0.9664 - val_loss: 0.2296 - val_accuracy: 0.9643\n",
      "Epoch 143/200\n",
      "1500/1500 [==============================] - 1s 997us/step - loss: 0.2226 - accuracy: 0.9663 - val_loss: 0.2407 - val_accuracy: 0.9613\n",
      "Epoch 144/200\n",
      "1500/1500 [==============================] - 1s 991us/step - loss: 0.2252 - accuracy: 0.9658 - val_loss: 0.2575 - val_accuracy: 0.9565\n",
      "Epoch 145/200\n",
      "1500/1500 [==============================] - 2s 1ms/step - loss: 0.2252 - accuracy: 0.9646 - val_loss: 0.2389 - val_accuracy: 0.9634\n",
      "Epoch 146/200\n",
      "1500/1500 [==============================] - 2s 1ms/step - loss: 0.2219 - accuracy: 0.9666 - val_loss: 0.2324 - val_accuracy: 0.9638\n",
      "Epoch 147/200\n",
      "1500/1500 [==============================] - 1s 990us/step - loss: 0.2213 - accuracy: 0.9674 - val_loss: 0.2615 - val_accuracy: 0.9556\n",
      "Epoch 148/200\n",
      "1500/1500 [==============================] - 1s 988us/step - loss: 0.2226 - accuracy: 0.9665 - val_loss: 0.2444 - val_accuracy: 0.9605\n",
      "Epoch 149/200\n",
      "1500/1500 [==============================] - 2s 1ms/step - loss: 0.2217 - accuracy: 0.9667 - val_loss: 0.2396 - val_accuracy: 0.9613\n",
      "Epoch 150/200\n",
      "1500/1500 [==============================] - 1s 987us/step - loss: 0.2234 - accuracy: 0.9661 - val_loss: 0.2442 - val_accuracy: 0.9589\n",
      "Epoch 151/200\n",
      "1500/1500 [==============================] - 1s 987us/step - loss: 0.2216 - accuracy: 0.9668 - val_loss: 0.2297 - val_accuracy: 0.9658\n",
      "Epoch 152/200\n",
      "1500/1500 [==============================] - 1s 988us/step - loss: 0.2207 - accuracy: 0.9672 - val_loss: 0.2359 - val_accuracy: 0.9637\n",
      "Epoch 153/200\n",
      "1500/1500 [==============================] - 1s 990us/step - loss: 0.2225 - accuracy: 0.9659 - val_loss: 0.2364 - val_accuracy: 0.9645\n",
      "Epoch 154/200\n",
      "1500/1500 [==============================] - 1s 991us/step - loss: 0.2197 - accuracy: 0.9677 - val_loss: 0.2445 - val_accuracy: 0.9599\n",
      "Epoch 155/200\n",
      "1500/1500 [==============================] - 1s 993us/step - loss: 0.2226 - accuracy: 0.9654 - val_loss: 0.2667 - val_accuracy: 0.9514\n",
      "Epoch 156/200\n",
      "1500/1500 [==============================] - 1s 987us/step - loss: 0.2216 - accuracy: 0.9659 - val_loss: 0.2527 - val_accuracy: 0.9591\n",
      "Epoch 157/200\n",
      "1500/1500 [==============================] - 1s 990us/step - loss: 0.2227 - accuracy: 0.9671 - val_loss: 0.2572 - val_accuracy: 0.9562\n",
      "Epoch 158/200\n",
      "1500/1500 [==============================] - 1s 984us/step - loss: 0.2231 - accuracy: 0.9663 - val_loss: 0.2261 - val_accuracy: 0.9663\n",
      "Epoch 159/200\n",
      "1500/1500 [==============================] - 1s 986us/step - loss: 0.2217 - accuracy: 0.9666 - val_loss: 0.2315 - val_accuracy: 0.9652\n",
      "Epoch 160/200\n",
      "1500/1500 [==============================] - 1s 990us/step - loss: 0.2211 - accuracy: 0.9666 - val_loss: 0.2317 - val_accuracy: 0.9646\n",
      "Epoch 161/200\n",
      "1500/1500 [==============================] - 1s 990us/step - loss: 0.2200 - accuracy: 0.9665 - val_loss: 0.2304 - val_accuracy: 0.9649\n",
      "Epoch 162/200\n",
      "1500/1500 [==============================] - 1s 989us/step - loss: 0.2221 - accuracy: 0.9663 - val_loss: 0.2610 - val_accuracy: 0.9538\n",
      "Epoch 163/200\n",
      "1500/1500 [==============================] - 1s 988us/step - loss: 0.2195 - accuracy: 0.9678 - val_loss: 0.2355 - val_accuracy: 0.9634\n",
      "Epoch 164/200\n",
      "1500/1500 [==============================] - 1s 985us/step - loss: 0.2186 - accuracy: 0.9680 - val_loss: 0.2603 - val_accuracy: 0.9558\n",
      "Epoch 165/200\n",
      "1500/1500 [==============================] - 1s 988us/step - loss: 0.2210 - accuracy: 0.9665 - val_loss: 0.2308 - val_accuracy: 0.9627\n",
      "Epoch 166/200\n"
     ]
    },
    {
     "name": "stdout",
     "output_type": "stream",
     "text": [
      "1500/1500 [==============================] - 1s 988us/step - loss: 0.2188 - accuracy: 0.9672 - val_loss: 0.2269 - val_accuracy: 0.9657\n",
      "Epoch 167/200\n",
      "1500/1500 [==============================] - 1s 988us/step - loss: 0.2205 - accuracy: 0.9655 - val_loss: 0.2421 - val_accuracy: 0.9626\n",
      "Epoch 168/200\n",
      "1500/1500 [==============================] - 1s 988us/step - loss: 0.2204 - accuracy: 0.9664 - val_loss: 0.2339 - val_accuracy: 0.9630\n",
      "Epoch 169/200\n",
      "1500/1500 [==============================] - 1s 991us/step - loss: 0.2199 - accuracy: 0.9667 - val_loss: 0.2374 - val_accuracy: 0.9622\n",
      "Epoch 170/200\n",
      "1500/1500 [==============================] - 1s 985us/step - loss: 0.2219 - accuracy: 0.9667 - val_loss: 0.2378 - val_accuracy: 0.9615\n",
      "Epoch 171/200\n",
      "1500/1500 [==============================] - 1s 992us/step - loss: 0.2213 - accuracy: 0.9663 - val_loss: 0.2398 - val_accuracy: 0.9609\n",
      "Epoch 172/200\n",
      "1500/1500 [==============================] - 1s 991us/step - loss: 0.2192 - accuracy: 0.9665 - val_loss: 0.2293 - val_accuracy: 0.9651\n",
      "Epoch 173/200\n",
      "1500/1500 [==============================] - 1s 988us/step - loss: 0.2199 - accuracy: 0.9673 - val_loss: 0.2282 - val_accuracy: 0.9632\n",
      "Epoch 174/200\n",
      "1500/1500 [==============================] - 1s 987us/step - loss: 0.2175 - accuracy: 0.9677 - val_loss: 0.2242 - val_accuracy: 0.9667\n",
      "Epoch 175/200\n",
      "1500/1500 [==============================] - 1s 988us/step - loss: 0.2207 - accuracy: 0.9664 - val_loss: 0.2381 - val_accuracy: 0.9610\n",
      "Epoch 176/200\n",
      "1500/1500 [==============================] - 1s 986us/step - loss: 0.2194 - accuracy: 0.9665 - val_loss: 0.2302 - val_accuracy: 0.9656\n",
      "Epoch 177/200\n",
      "1500/1500 [==============================] - 1s 991us/step - loss: 0.2178 - accuracy: 0.9675 - val_loss: 0.2315 - val_accuracy: 0.9653\n",
      "Epoch 178/200\n",
      "1500/1500 [==============================] - 1s 987us/step - loss: 0.2190 - accuracy: 0.9663 - val_loss: 0.2444 - val_accuracy: 0.9610\n",
      "Epoch 179/200\n",
      "1500/1500 [==============================] - 1s 984us/step - loss: 0.2193 - accuracy: 0.9667 - val_loss: 0.2273 - val_accuracy: 0.9645\n",
      "Epoch 180/200\n",
      "1500/1500 [==============================] - 1s 990us/step - loss: 0.2177 - accuracy: 0.9674 - val_loss: 0.2282 - val_accuracy: 0.9643\n",
      "Epoch 181/200\n",
      "1500/1500 [==============================] - 1s 989us/step - loss: 0.2156 - accuracy: 0.9672 - val_loss: 0.2378 - val_accuracy: 0.9617\n",
      "Epoch 182/200\n",
      "1500/1500 [==============================] - 1s 988us/step - loss: 0.2207 - accuracy: 0.9659 - val_loss: 0.2400 - val_accuracy: 0.9625\n",
      "Epoch 183/200\n",
      "1500/1500 [==============================] - 1s 989us/step - loss: 0.2185 - accuracy: 0.9668 - val_loss: 0.2497 - val_accuracy: 0.9578\n",
      "Epoch 184/200\n",
      "1500/1500 [==============================] - 1s 987us/step - loss: 0.2178 - accuracy: 0.9669 - val_loss: 0.2400 - val_accuracy: 0.9616\n",
      "Epoch 185/200\n",
      "1500/1500 [==============================] - 1s 988us/step - loss: 0.2182 - accuracy: 0.9670 - val_loss: 0.2285 - val_accuracy: 0.9650\n",
      "Epoch 186/200\n",
      "1500/1500 [==============================] - 1s 990us/step - loss: 0.2159 - accuracy: 0.9679 - val_loss: 0.2274 - val_accuracy: 0.9638\n",
      "Epoch 187/200\n",
      "1500/1500 [==============================] - 1s 987us/step - loss: 0.2197 - accuracy: 0.9665 - val_loss: 0.2358 - val_accuracy: 0.9614\n",
      "Epoch 188/200\n",
      "1500/1500 [==============================] - 1s 987us/step - loss: 0.2178 - accuracy: 0.9673 - val_loss: 0.2288 - val_accuracy: 0.9649\n",
      "Epoch 189/200\n",
      "1500/1500 [==============================] - 1s 988us/step - loss: 0.2187 - accuracy: 0.9664 - val_loss: 0.2351 - val_accuracy: 0.9621\n",
      "Epoch 190/200\n",
      "1500/1500 [==============================] - 1s 992us/step - loss: 0.2167 - accuracy: 0.9670 - val_loss: 0.2285 - val_accuracy: 0.9638\n",
      "Epoch 191/200\n",
      "1500/1500 [==============================] - 2s 1ms/step - loss: 0.2171 - accuracy: 0.9665 - val_loss: 0.2361 - val_accuracy: 0.9629\n",
      "Epoch 192/200\n",
      "1500/1500 [==============================] - 1s 985us/step - loss: 0.2172 - accuracy: 0.9670 - val_loss: 0.2285 - val_accuracy: 0.9629\n",
      "Epoch 193/200\n",
      "1500/1500 [==============================] - 1s 991us/step - loss: 0.2150 - accuracy: 0.9681 - val_loss: 0.2650 - val_accuracy: 0.9520\n",
      "Epoch 194/200\n",
      "1500/1500 [==============================] - 1s 992us/step - loss: 0.2175 - accuracy: 0.9671 - val_loss: 0.2344 - val_accuracy: 0.9613\n",
      "Epoch 195/200\n",
      "1500/1500 [==============================] - 1s 993us/step - loss: 0.2156 - accuracy: 0.9680 - val_loss: 0.2359 - val_accuracy: 0.9607\n",
      "Epoch 196/200\n",
      "1500/1500 [==============================] - 1s 986us/step - loss: 0.2165 - accuracy: 0.9682 - val_loss: 0.2356 - val_accuracy: 0.9614\n",
      "Epoch 197/200\n",
      "1500/1500 [==============================] - 1s 984us/step - loss: 0.2184 - accuracy: 0.9674 - val_loss: 0.2314 - val_accuracy: 0.9635\n",
      "Epoch 198/200\n",
      "1500/1500 [==============================] - 1s 989us/step - loss: 0.2188 - accuracy: 0.9665 - val_loss: 0.2412 - val_accuracy: 0.9588\n",
      "Epoch 199/200\n",
      "1500/1500 [==============================] - 1s 989us/step - loss: 0.2177 - accuracy: 0.9664 - val_loss: 0.2382 - val_accuracy: 0.9614\n",
      "Epoch 200/200\n",
      "1500/1500 [==============================] - 1s 988us/step - loss: 0.2180 - accuracy: 0.9672 - val_loss: 0.2313 - val_accuracy: 0.9631\n"
     ]
    }
   ],
   "source": [
    "# will take a while... saving training history\n",
    "history_deepermnist = deepermodel_images.fit(x_train, y_tr_one_hot, epochs=200, batch_size= 32, validation_split = 0.2)"
   ]
  },
  {
   "cell_type": "code",
   "execution_count": 20,
   "metadata": {
    "cell_style": "split",
    "slideshow": {
     "slide_type": "slide"
    }
   },
   "outputs": [
    {
     "name": "stdout",
     "output_type": "stream",
     "text": [
      "313/313 - 0s - loss: 0.2211 - accuracy: 0.9662 - 251ms/epoch - 802us/step\n"
     ]
    },
    {
     "data": {
      "text/plain": [
       "[0.2211383730173111, 0.9661999940872192]"
      ]
     },
     "execution_count": 20,
     "metadata": {},
     "output_type": "execute_result"
    }
   ],
   "source": [
    "#evaluate test accuracy\n",
    "deepermodel_images.evaluate(x_test, y_tt_one_hot, verbose = 2)"
   ]
  },
  {
   "cell_type": "code",
   "execution_count": 21,
   "metadata": {
    "cell_style": "split",
    "slideshow": {
     "slide_type": "fragment"
    }
   },
   "outputs": [
    {
     "data": {
      "image/png": "[encoded data removed]",
      "text/plain": [
       "<Figure size 640x480 with 1 Axes>"
      ]
     },
     "metadata": {},
     "output_type": "display_data"
    }
   ],
   "source": [
    "train_deepmnist_history = pd.DataFrame(history_deepermnist.history)\n",
    "train_deepmnist_history.index.name = 'epochs'\n",
    "\n",
    "col_list = ['loss', 'val_loss']\n",
    "train_deepmnist_history[col_list].plot()\n",
    "plt.ylabel('Categorical cross entropy')\n",
    "plt.title('Training loss history')\n",
    "plt.show()"
   ]
  },
  {
   "cell_type": "code",
   "execution_count": 22,
   "metadata": {
    "cell_style": "split",
    "slideshow": {
     "slide_type": "slide"
    }
   },
   "outputs": [
    {
     "data": {
      "image/png": "[encoded data removed]",
      "text/plain": [
       "<Figure size 640x480 with 1 Axes>"
      ]
     },
     "metadata": {},
     "output_type": "display_data"
    }
   ],
   "source": [
    "col_list = ['accuracy', 'val_accuracy']\n",
    "train_deepmnist_history[col_list].plot()\n",
    "plt.ylabel('Accuracy')\n",
    "plt.title('Training loss history')\n",
    "plt.show()"
   ]
  },
  {
   "cell_type": "markdown",
   "metadata": {
    "cell_style": "split",
    "slideshow": {
     "slide_type": "fragment"
    }
   },
   "source": [
    "Not overfitting even while adding much more complexity:\n",
    "- in this case, not gaining much either"
   ]
  },
  {
   "cell_type": "markdown",
   "metadata": {
    "cell_style": "split",
    "slideshow": {
     "slide_type": "fragment"
    }
   },
   "source": [
    "To do better:\n",
    "- try a different regularization technique\n",
    "- may need to think harder about network architecture"
   ]
  },
  {
   "cell_type": "markdown",
   "metadata": {
    "cell_style": "center",
    "slideshow": {
     "slide_type": "slide"
    }
   },
   "source": [
    "#### Dropout Regularization\n",
    "- Architecture based strategy.\n",
    "\n",
    "On each forward/backprop iteration:\n",
    "- given layer with dropout\n",
    "- shut off activations to randomly selected nodes in layer"
   ]
  },
  {
   "cell_type": "markdown",
   "metadata": {
    "cell_style": "split",
    "slideshow": {
     "slide_type": "slide"
    }
   },
   "source": [
    "![drop_out](images/drop_out.png)"
   ]
  },
  {
   "cell_type": "markdown",
   "metadata": {
    "cell_style": "split",
    "slideshow": {
     "slide_type": "fragment"
    }
   },
   "source": [
    "<img src = \"Images/dropout_network.gif\" >"
   ]
  },
  {
   "cell_type": "markdown",
   "metadata": {
    "cell_style": "center",
    "slideshow": {
     "slide_type": "fragment"
    }
   },
   "source": [
    "- Set $p^{[l]}$  uniform probability of node dropout for given layer\n",
    "- each train cycle: kills different activations"
   ]
  },
  {
   "cell_type": "markdown",
   "metadata": {
    "cell_style": "center",
    "slideshow": {
     "slide_type": "fragment"
    }
   },
   "source": [
    "Dead nodes dont contribute to weight updates in backprop."
   ]
  },
  {
   "cell_type": "markdown",
   "metadata": {
    "cell_style": "center",
    "slideshow": {
     "slide_type": "fragment"
    }
   },
   "source": [
    "after many train cycles: have learned weights:\n",
    "- contributions from many different networks learning different things"
   ]
  },
  {
   "cell_type": "markdown",
   "metadata": {
    "cell_style": "split",
    "slideshow": {
     "slide_type": "slide"
    }
   },
   "source": [
    "<img src = \"Images/Deeper_network.jpg\">"
   ]
  },
  {
   "cell_type": "markdown",
   "metadata": {
    "cell_style": "split",
    "slideshow": {
     "slide_type": "fragment"
    }
   },
   "source": [
    "Validation/test phase:\n",
    "- use all nodes and learned weights.\n",
    "- make prediction."
   ]
  },
  {
   "cell_type": "markdown",
   "metadata": {
    "cell_style": "center",
    "slideshow": {
     "slide_type": "slide"
    }
   },
   "source": [
    "**Why it works as regularization**\n",
    "- network learns not to trust in any one subset of weights: unlikely any particular weight subset gets too big.\n",
    "- distributes weights in way that is robust to network noise (random dropout): generalizes well. "
   ]
  },
  {
   "cell_type": "markdown",
   "metadata": {
    "slideshow": {
     "slide_type": "slide"
    }
   },
   "source": [
    "#### Dropout in Keras\n",
    "\n",
    "- Simply add it as though it were a layer. It will apply to the immediately preceding layer."
   ]
  },
  {
   "cell_type": "code",
   "execution_count": 23,
   "metadata": {
    "slideshow": {
     "slide_type": "fragment"
    }
   },
   "outputs": [],
   "source": [
    "from tensorflow.keras.layers import Dropout"
   ]
  },
  {
   "cell_type": "markdown",
   "metadata": {
    "cell_style": "center",
    "slideshow": {
     "slide_type": "slide"
    }
   },
   "source": [
    "Dropout() takes in the dropout probability as a constructor argument:\n",
    "- Dropout($p$) after some of the hidden layers.\n",
    "- $p \\in [0.2, 0.5]$ as good range to try."
   ]
  },
  {
   "cell_type": "code",
   "execution_count": 24,
   "metadata": {
    "slideshow": {
     "slide_type": "subslide"
    }
   },
   "outputs": [],
   "source": [
    "from tensorflow.keras.optimizers import Adam\n",
    "opt = Adam(learning_rate=0.003, beta_1=0.9, beta_2=0.999, epsilon=1e-07)"
   ]
  },
  {
   "cell_type": "markdown",
   "metadata": {
    "slideshow": {
     "slide_type": "slide"
    }
   },
   "source": [
    "**Define model**"
   ]
  },
  {
   "cell_type": "code",
   "execution_count": 25,
   "metadata": {
    "cell_style": "split",
    "slideshow": {
     "slide_type": "fragment"
    }
   },
   "outputs": [],
   "source": [
    "model = Sequential()\n",
    "model.add(Flatten(input_shape=(28, 28)))\n",
    "model.add(Dense(20, activation='relu'))\n",
    "model.add(Dropout(0.2)) # dropout on previous activations\n",
    "model.add(Dense(12, activation='relu'))\n",
    "model.add(Dense(12, activation='relu'))\n",
    "model.add(Dropout(0.1)) # dropout\n",
    "model.add(Dense(12, activation='relu'))\n",
    "model.add(Dense(8, activation='relu'))\n",
    "model.add(Dense(10, activation ='softmax'))\n",
    "\n",
    "# compile model\n",
    "model.compile(optimizer=opt, \n",
    "              loss='categorical_crossentropy',\n",
    "              metrics=['accuracy'])"
   ]
  },
  {
   "cell_type": "markdown",
   "metadata": {
    "cell_style": "split",
    "slideshow": {
     "slide_type": "fragment"
    }
   },
   "source": [
    "Some tips:\n",
    "- Dropout earlier in network or inputs. Don't put on final layers.\n",
    "- Try faster learning rates in optimizer"
   ]
  },
  {
   "cell_type": "code",
   "execution_count": 26,
   "metadata": {
    "scrolled": true,
    "slideshow": {
     "slide_type": "slide"
    }
   },
   "outputs": [
    {
     "name": "stdout",
     "output_type": "stream",
     "text": [
      "Epoch 1/200\n",
      "1500/1500 - 2s - loss: 0.8604 - accuracy: 0.7241 - val_loss: 0.4029 - val_accuracy: 0.8992 - 2s/epoch - 1ms/step\n",
      "Epoch 2/200\n",
      "1500/1500 - 1s - loss: 0.5428 - accuracy: 0.8452 - val_loss: 0.3653 - val_accuracy: 0.9031 - 1s/epoch - 843us/step\n",
      "Epoch 3/200\n",
      "1500/1500 - 1s - loss: 0.4981 - accuracy: 0.8558 - val_loss: 0.3048 - val_accuracy: 0.9221 - 1s/epoch - 843us/step\n",
      "Epoch 4/200\n",
      "1500/1500 - 1s - loss: 0.4532 - accuracy: 0.8684 - val_loss: 0.2793 - val_accuracy: 0.9293 - 1s/epoch - 841us/step\n",
      "Epoch 5/200\n",
      "1500/1500 - 1s - loss: 0.4365 - accuracy: 0.8734 - val_loss: 0.2777 - val_accuracy: 0.9252 - 1s/epoch - 843us/step\n",
      "Epoch 6/200\n",
      "1500/1500 - 1s - loss: 0.4234 - accuracy: 0.8769 - val_loss: 0.2592 - val_accuracy: 0.9303 - 1s/epoch - 844us/step\n",
      "Epoch 7/200\n",
      "1500/1500 - 1s - loss: 0.4089 - accuracy: 0.8793 - val_loss: 0.2761 - val_accuracy: 0.9277 - 1s/epoch - 842us/step\n",
      "Epoch 8/200\n",
      "1500/1500 - 1s - loss: 0.4016 - accuracy: 0.8835 - val_loss: 0.2531 - val_accuracy: 0.9355 - 1s/epoch - 849us/step\n",
      "Epoch 9/200\n",
      "1500/1500 - 1s - loss: 0.3958 - accuracy: 0.8851 - val_loss: 0.2451 - val_accuracy: 0.9372 - 1s/epoch - 845us/step\n",
      "Epoch 10/200\n",
      "1500/1500 - 1s - loss: 0.3800 - accuracy: 0.8892 - val_loss: 0.2506 - val_accuracy: 0.9317 - 1s/epoch - 844us/step\n",
      "Epoch 11/200\n",
      "1500/1500 - 1s - loss: 0.3780 - accuracy: 0.8910 - val_loss: 0.2454 - val_accuracy: 0.9355 - 1s/epoch - 844us/step\n",
      "Epoch 12/200\n",
      "1500/1500 - 1s - loss: 0.3722 - accuracy: 0.8929 - val_loss: 0.2427 - val_accuracy: 0.9360 - 1s/epoch - 846us/step\n",
      "Epoch 13/200\n",
      "1500/1500 - 1s - loss: 0.3608 - accuracy: 0.8955 - val_loss: 0.2411 - val_accuracy: 0.9380 - 1s/epoch - 842us/step\n",
      "Epoch 14/200\n",
      "1500/1500 - 1s - loss: 0.3653 - accuracy: 0.8927 - val_loss: 0.2491 - val_accuracy: 0.9340 - 1s/epoch - 845us/step\n",
      "Epoch 15/200\n",
      "1500/1500 - 1s - loss: 0.3599 - accuracy: 0.8935 - val_loss: 0.2292 - val_accuracy: 0.9389 - 1s/epoch - 842us/step\n",
      "Epoch 16/200\n",
      "1500/1500 - 1s - loss: 0.3544 - accuracy: 0.8949 - val_loss: 0.2344 - val_accuracy: 0.9377 - 1s/epoch - 842us/step\n",
      "Epoch 17/200\n",
      "1500/1500 - 1s - loss: 0.3499 - accuracy: 0.8974 - val_loss: 0.2371 - val_accuracy: 0.9383 - 1s/epoch - 842us/step\n",
      "Epoch 18/200\n",
      "1500/1500 - 1s - loss: 0.3507 - accuracy: 0.8990 - val_loss: 0.2379 - val_accuracy: 0.9386 - 1s/epoch - 845us/step\n",
      "Epoch 19/200\n",
      "1500/1500 - 1s - loss: 0.3436 - accuracy: 0.8996 - val_loss: 0.2349 - val_accuracy: 0.9383 - 1s/epoch - 842us/step\n",
      "Epoch 20/200\n",
      "1500/1500 - 1s - loss: 0.3412 - accuracy: 0.9016 - val_loss: 0.2353 - val_accuracy: 0.9367 - 1s/epoch - 843us/step\n",
      "Epoch 21/200\n",
      "1500/1500 - 1s - loss: 0.3430 - accuracy: 0.9018 - val_loss: 0.2162 - val_accuracy: 0.9420 - 1s/epoch - 841us/step\n",
      "Epoch 22/200\n",
      "1500/1500 - 1s - loss: 0.3407 - accuracy: 0.9000 - val_loss: 0.2243 - val_accuracy: 0.9395 - 1s/epoch - 842us/step\n",
      "Epoch 23/200\n",
      "1500/1500 - 1s - loss: 0.3380 - accuracy: 0.9023 - val_loss: 0.2265 - val_accuracy: 0.9393 - 1s/epoch - 841us/step\n",
      "Epoch 24/200\n",
      "1500/1500 - 1s - loss: 0.3334 - accuracy: 0.9026 - val_loss: 0.2318 - val_accuracy: 0.9381 - 1s/epoch - 842us/step\n",
      "Epoch 25/200\n",
      "1500/1500 - 1s - loss: 0.3360 - accuracy: 0.9025 - val_loss: 0.2298 - val_accuracy: 0.9403 - 1s/epoch - 843us/step\n",
      "Epoch 26/200\n",
      "1500/1500 - 1s - loss: 0.3275 - accuracy: 0.9051 - val_loss: 0.2224 - val_accuracy: 0.9438 - 1s/epoch - 842us/step\n",
      "Epoch 27/200\n",
      "1500/1500 - 1s - loss: 0.3333 - accuracy: 0.9034 - val_loss: 0.2345 - val_accuracy: 0.9374 - 1s/epoch - 842us/step\n",
      "Epoch 28/200\n",
      "1500/1500 - 1s - loss: 0.3341 - accuracy: 0.9043 - val_loss: 0.2175 - val_accuracy: 0.9424 - 1s/epoch - 844us/step\n",
      "Epoch 29/200\n",
      "1500/1500 - 1s - loss: 0.3271 - accuracy: 0.9056 - val_loss: 0.2256 - val_accuracy: 0.9405 - 1s/epoch - 843us/step\n",
      "Epoch 30/200\n",
      "1500/1500 - 1s - loss: 0.3226 - accuracy: 0.9064 - val_loss: 0.2300 - val_accuracy: 0.9391 - 1s/epoch - 845us/step\n",
      "Epoch 31/200\n",
      "1500/1500 - 1s - loss: 0.3290 - accuracy: 0.9038 - val_loss: 0.2421 - val_accuracy: 0.9358 - 1s/epoch - 843us/step\n",
      "Epoch 32/200\n",
      "1500/1500 - 1s - loss: 0.3205 - accuracy: 0.9073 - val_loss: 0.2318 - val_accuracy: 0.9402 - 1s/epoch - 843us/step\n",
      "Epoch 33/200\n",
      "1500/1500 - 1s - loss: 0.3238 - accuracy: 0.9062 - val_loss: 0.2339 - val_accuracy: 0.9337 - 1s/epoch - 843us/step\n",
      "Epoch 34/200\n",
      "1500/1500 - 1s - loss: 0.3232 - accuracy: 0.9065 - val_loss: 0.2413 - val_accuracy: 0.9330 - 1s/epoch - 842us/step\n",
      "Epoch 35/200\n",
      "1500/1500 - 1s - loss: 0.3158 - accuracy: 0.9076 - val_loss: 0.2244 - val_accuracy: 0.9377 - 1s/epoch - 843us/step\n",
      "Epoch 36/200\n",
      "1500/1500 - 1s - loss: 0.3200 - accuracy: 0.9082 - val_loss: 0.2318 - val_accuracy: 0.9393 - 1s/epoch - 844us/step\n",
      "Epoch 37/200\n",
      "1500/1500 - 1s - loss: 0.3189 - accuracy: 0.9079 - val_loss: 0.2194 - val_accuracy: 0.9442 - 1s/epoch - 843us/step\n",
      "Epoch 38/200\n",
      "1500/1500 - 1s - loss: 0.3147 - accuracy: 0.9094 - val_loss: 0.2239 - val_accuracy: 0.9413 - 1s/epoch - 842us/step\n",
      "Epoch 39/200\n",
      "1500/1500 - 1s - loss: 0.3108 - accuracy: 0.9110 - val_loss: 0.2217 - val_accuracy: 0.9408 - 1s/epoch - 842us/step\n",
      "Epoch 40/200\n",
      "1500/1500 - 1s - loss: 0.3085 - accuracy: 0.9111 - val_loss: 0.2216 - val_accuracy: 0.9426 - 1s/epoch - 840us/step\n",
      "Epoch 41/200\n",
      "1500/1500 - 1s - loss: 0.3107 - accuracy: 0.9107 - val_loss: 0.2252 - val_accuracy: 0.9423 - 1s/epoch - 843us/step\n",
      "Epoch 42/200\n",
      "1500/1500 - 1s - loss: 0.3093 - accuracy: 0.9107 - val_loss: 0.2220 - val_accuracy: 0.9425 - 1s/epoch - 845us/step\n",
      "Epoch 43/200\n",
      "1500/1500 - 1s - loss: 0.3103 - accuracy: 0.9113 - val_loss: 0.2204 - val_accuracy: 0.9415 - 1s/epoch - 843us/step\n",
      "Epoch 44/200\n",
      "1500/1500 - 1s - loss: 0.3139 - accuracy: 0.9100 - val_loss: 0.2206 - val_accuracy: 0.9433 - 1s/epoch - 840us/step\n",
      "Epoch 45/200\n",
      "1500/1500 - 1s - loss: 0.3105 - accuracy: 0.9109 - val_loss: 0.2290 - val_accuracy: 0.9389 - 1s/epoch - 842us/step\n",
      "Epoch 46/200\n",
      "1500/1500 - 1s - loss: 0.3075 - accuracy: 0.9123 - val_loss: 0.2278 - val_accuracy: 0.9407 - 1s/epoch - 841us/step\n",
      "Epoch 47/200\n",
      "1500/1500 - 1s - loss: 0.3055 - accuracy: 0.9128 - val_loss: 0.2199 - val_accuracy: 0.9431 - 1s/epoch - 842us/step\n",
      "Epoch 48/200\n",
      "1500/1500 - 1s - loss: 0.3054 - accuracy: 0.9135 - val_loss: 0.2145 - val_accuracy: 0.9420 - 1s/epoch - 842us/step\n",
      "Epoch 49/200\n",
      "1500/1500 - 1s - loss: 0.3016 - accuracy: 0.9145 - val_loss: 0.2229 - val_accuracy: 0.9426 - 1s/epoch - 844us/step\n",
      "Epoch 50/200\n",
      "1500/1500 - 1s - loss: 0.3051 - accuracy: 0.9116 - val_loss: 0.2248 - val_accuracy: 0.9432 - 1s/epoch - 842us/step\n",
      "Epoch 51/200\n",
      "1500/1500 - 1s - loss: 0.3018 - accuracy: 0.9135 - val_loss: 0.2317 - val_accuracy: 0.9398 - 1s/epoch - 839us/step\n",
      "Epoch 52/200\n",
      "1500/1500 - 1s - loss: 0.3075 - accuracy: 0.9120 - val_loss: 0.2211 - val_accuracy: 0.9413 - 1s/epoch - 841us/step\n",
      "Epoch 53/200\n",
      "1500/1500 - 1s - loss: 0.3050 - accuracy: 0.9120 - val_loss: 0.2168 - val_accuracy: 0.9448 - 1s/epoch - 842us/step\n",
      "Epoch 54/200\n",
      "1500/1500 - 1s - loss: 0.3023 - accuracy: 0.9136 - val_loss: 0.2319 - val_accuracy: 0.9396 - 1s/epoch - 845us/step\n",
      "Epoch 55/200\n",
      "1500/1500 - 1s - loss: 0.3028 - accuracy: 0.9139 - val_loss: 0.2216 - val_accuracy: 0.9413 - 1s/epoch - 843us/step\n",
      "Epoch 56/200\n",
      "1500/1500 - 1s - loss: 0.3004 - accuracy: 0.9137 - val_loss: 0.2248 - val_accuracy: 0.9401 - 1s/epoch - 842us/step\n",
      "Epoch 57/200\n",
      "1500/1500 - 1s - loss: 0.3022 - accuracy: 0.9147 - val_loss: 0.2276 - val_accuracy: 0.9403 - 1s/epoch - 842us/step\n",
      "Epoch 58/200\n",
      "1500/1500 - 1s - loss: 0.2989 - accuracy: 0.9132 - val_loss: 0.2266 - val_accuracy: 0.9398 - 1s/epoch - 841us/step\n",
      "Epoch 59/200\n",
      "1500/1500 - 1s - loss: 0.2986 - accuracy: 0.9142 - val_loss: 0.2171 - val_accuracy: 0.9446 - 1s/epoch - 845us/step\n",
      "Epoch 60/200\n",
      "1500/1500 - 1s - loss: 0.3011 - accuracy: 0.9138 - val_loss: 0.2212 - val_accuracy: 0.9394 - 1s/epoch - 845us/step\n",
      "Epoch 61/200\n",
      "1500/1500 - 1s - loss: 0.2953 - accuracy: 0.9145 - val_loss: 0.2216 - val_accuracy: 0.9432 - 1s/epoch - 843us/step\n",
      "Epoch 62/200\n",
      "1500/1500 - 1s - loss: 0.3010 - accuracy: 0.9127 - val_loss: 0.2163 - val_accuracy: 0.9448 - 1s/epoch - 841us/step\n",
      "Epoch 63/200\n",
      "1500/1500 - 1s - loss: 0.2998 - accuracy: 0.9140 - val_loss: 0.2149 - val_accuracy: 0.9429 - 1s/epoch - 841us/step\n",
      "Epoch 64/200\n",
      "1500/1500 - 1s - loss: 0.2950 - accuracy: 0.9162 - val_loss: 0.2239 - val_accuracy: 0.9398 - 1s/epoch - 838us/step\n",
      "Epoch 65/200\n"
     ]
    },
    {
     "name": "stdout",
     "output_type": "stream",
     "text": [
      "1500/1500 - 1s - loss: 0.2979 - accuracy: 0.9142 - val_loss: 0.2211 - val_accuracy: 0.9428 - 1s/epoch - 839us/step\n",
      "Epoch 66/200\n",
      "1500/1500 - 1s - loss: 0.2925 - accuracy: 0.9163 - val_loss: 0.2255 - val_accuracy: 0.9442 - 1s/epoch - 838us/step\n",
      "Epoch 67/200\n",
      "1500/1500 - 1s - loss: 0.3054 - accuracy: 0.9133 - val_loss: 0.2197 - val_accuracy: 0.9437 - 1s/epoch - 844us/step\n",
      "Epoch 68/200\n",
      "1500/1500 - 1s - loss: 0.2901 - accuracy: 0.9170 - val_loss: 0.2185 - val_accuracy: 0.9440 - 1s/epoch - 842us/step\n",
      "Epoch 69/200\n",
      "1500/1500 - 1s - loss: 0.2909 - accuracy: 0.9165 - val_loss: 0.2140 - val_accuracy: 0.9449 - 1s/epoch - 843us/step\n",
      "Epoch 70/200\n",
      "1500/1500 - 1s - loss: 0.2948 - accuracy: 0.9167 - val_loss: 0.2344 - val_accuracy: 0.9388 - 1s/epoch - 840us/step\n",
      "Epoch 71/200\n",
      "1500/1500 - 1s - loss: 0.2915 - accuracy: 0.9172 - val_loss: 0.2209 - val_accuracy: 0.9429 - 1s/epoch - 843us/step\n",
      "Epoch 72/200\n",
      "1500/1500 - 1s - loss: 0.2898 - accuracy: 0.9180 - val_loss: 0.2197 - val_accuracy: 0.9438 - 1s/epoch - 844us/step\n",
      "Epoch 73/200\n",
      "1500/1500 - 1s - loss: 0.2976 - accuracy: 0.9146 - val_loss: 0.2273 - val_accuracy: 0.9442 - 1s/epoch - 843us/step\n",
      "Epoch 74/200\n",
      "1500/1500 - 1s - loss: 0.2958 - accuracy: 0.9165 - val_loss: 0.2139 - val_accuracy: 0.9442 - 1s/epoch - 842us/step\n",
      "Epoch 75/200\n",
      "1500/1500 - 1s - loss: 0.2947 - accuracy: 0.9159 - val_loss: 0.2183 - val_accuracy: 0.9436 - 1s/epoch - 843us/step\n",
      "Epoch 76/200\n",
      "1500/1500 - 1s - loss: 0.2897 - accuracy: 0.9182 - val_loss: 0.2138 - val_accuracy: 0.9448 - 1s/epoch - 841us/step\n",
      "Epoch 77/200\n",
      "1500/1500 - 1s - loss: 0.2920 - accuracy: 0.9172 - val_loss: 0.2201 - val_accuracy: 0.9429 - 1s/epoch - 842us/step\n",
      "Epoch 78/200\n",
      "1500/1500 - 1s - loss: 0.2867 - accuracy: 0.9178 - val_loss: 0.2227 - val_accuracy: 0.9420 - 1s/epoch - 840us/step\n",
      "Epoch 79/200\n",
      "1500/1500 - 1s - loss: 0.2896 - accuracy: 0.9170 - val_loss: 0.2180 - val_accuracy: 0.9444 - 1s/epoch - 839us/step\n",
      "Epoch 80/200\n",
      "1500/1500 - 1s - loss: 0.2921 - accuracy: 0.9167 - val_loss: 0.2190 - val_accuracy: 0.9445 - 1s/epoch - 842us/step\n",
      "Epoch 81/200\n",
      "1500/1500 - 1s - loss: 0.2908 - accuracy: 0.9170 - val_loss: 0.2176 - val_accuracy: 0.9448 - 1s/epoch - 841us/step\n",
      "Epoch 82/200\n",
      "1500/1500 - 1s - loss: 0.2841 - accuracy: 0.9183 - val_loss: 0.2213 - val_accuracy: 0.9418 - 1s/epoch - 842us/step\n",
      "Epoch 83/200\n",
      "1500/1500 - 1s - loss: 0.2840 - accuracy: 0.9199 - val_loss: 0.2225 - val_accuracy: 0.9428 - 1s/epoch - 841us/step\n",
      "Epoch 84/200\n",
      "1500/1500 - 1s - loss: 0.2894 - accuracy: 0.9173 - val_loss: 0.2297 - val_accuracy: 0.9438 - 1s/epoch - 842us/step\n",
      "Epoch 85/200\n",
      "1500/1500 - 1s - loss: 0.2847 - accuracy: 0.9184 - val_loss: 0.2215 - val_accuracy: 0.9444 - 1s/epoch - 841us/step\n",
      "Epoch 86/200\n",
      "1500/1500 - 1s - loss: 0.2861 - accuracy: 0.9187 - val_loss: 0.2212 - val_accuracy: 0.9444 - 1s/epoch - 843us/step\n",
      "Epoch 87/200\n",
      "1500/1500 - 1s - loss: 0.2836 - accuracy: 0.9210 - val_loss: 0.2131 - val_accuracy: 0.9459 - 1s/epoch - 844us/step\n",
      "Epoch 88/200\n",
      "1500/1500 - 1s - loss: 0.2784 - accuracy: 0.9190 - val_loss: 0.2180 - val_accuracy: 0.9442 - 1s/epoch - 841us/step\n",
      "Epoch 89/200\n",
      "1500/1500 - 1s - loss: 0.2851 - accuracy: 0.9186 - val_loss: 0.2159 - val_accuracy: 0.9433 - 1s/epoch - 848us/step\n",
      "Epoch 90/200\n",
      "1500/1500 - 1s - loss: 0.2849 - accuracy: 0.9197 - val_loss: 0.2163 - val_accuracy: 0.9442 - 1s/epoch - 842us/step\n",
      "Epoch 91/200\n",
      "1500/1500 - 1s - loss: 0.2797 - accuracy: 0.9201 - val_loss: 0.2350 - val_accuracy: 0.9415 - 1s/epoch - 842us/step\n",
      "Epoch 92/200\n",
      "1500/1500 - 1s - loss: 0.2825 - accuracy: 0.9198 - val_loss: 0.2313 - val_accuracy: 0.9412 - 1s/epoch - 840us/step\n",
      "Epoch 93/200\n",
      "1500/1500 - 1s - loss: 0.2844 - accuracy: 0.9192 - val_loss: 0.2248 - val_accuracy: 0.9427 - 1s/epoch - 841us/step\n",
      "Epoch 94/200\n",
      "1500/1500 - 1s - loss: 0.2788 - accuracy: 0.9201 - val_loss: 0.2210 - val_accuracy: 0.9425 - 1s/epoch - 839us/step\n",
      "Epoch 95/200\n",
      "1500/1500 - 1s - loss: 0.2817 - accuracy: 0.9192 - val_loss: 0.2265 - val_accuracy: 0.9421 - 1s/epoch - 842us/step\n",
      "Epoch 96/200\n",
      "1500/1500 - 1s - loss: 0.2807 - accuracy: 0.9201 - val_loss: 0.2261 - val_accuracy: 0.9426 - 1s/epoch - 842us/step\n",
      "Epoch 97/200\n",
      "1500/1500 - 1s - loss: 0.2788 - accuracy: 0.9196 - val_loss: 0.2299 - val_accuracy: 0.9458 - 1s/epoch - 842us/step\n",
      "Epoch 98/200\n",
      "1500/1500 - 1s - loss: 0.2784 - accuracy: 0.9215 - val_loss: 0.2229 - val_accuracy: 0.9439 - 1s/epoch - 841us/step\n",
      "Epoch 99/200\n",
      "1500/1500 - 1s - loss: 0.2777 - accuracy: 0.9204 - val_loss: 0.2208 - val_accuracy: 0.9430 - 1s/epoch - 844us/step\n",
      "Epoch 100/200\n",
      "1500/1500 - 1s - loss: 0.2760 - accuracy: 0.9217 - val_loss: 0.2225 - val_accuracy: 0.9451 - 1s/epoch - 852us/step\n",
      "Epoch 101/200\n",
      "1500/1500 - 1s - loss: 0.2714 - accuracy: 0.9231 - val_loss: 0.2169 - val_accuracy: 0.9464 - 1s/epoch - 849us/step\n",
      "Epoch 102/200\n",
      "1500/1500 - 1s - loss: 0.2770 - accuracy: 0.9215 - val_loss: 0.2226 - val_accuracy: 0.9436 - 1s/epoch - 844us/step\n",
      "Epoch 103/200\n",
      "1500/1500 - 1s - loss: 0.2744 - accuracy: 0.9219 - val_loss: 0.2202 - val_accuracy: 0.9447 - 1s/epoch - 846us/step\n",
      "Epoch 104/200\n",
      "1500/1500 - 1s - loss: 0.2793 - accuracy: 0.9211 - val_loss: 0.2319 - val_accuracy: 0.9413 - 1s/epoch - 847us/step\n",
      "Epoch 105/200\n",
      "1500/1500 - 1s - loss: 0.2748 - accuracy: 0.9214 - val_loss: 0.2207 - val_accuracy: 0.9440 - 1s/epoch - 846us/step\n",
      "Epoch 106/200\n",
      "1500/1500 - 1s - loss: 0.2742 - accuracy: 0.9220 - val_loss: 0.2263 - val_accuracy: 0.9420 - 1s/epoch - 842us/step\n",
      "Epoch 107/200\n",
      "1500/1500 - 1s - loss: 0.2766 - accuracy: 0.9210 - val_loss: 0.2256 - val_accuracy: 0.9424 - 1s/epoch - 844us/step\n",
      "Epoch 108/200\n",
      "1500/1500 - 1s - loss: 0.2794 - accuracy: 0.9191 - val_loss: 0.2160 - val_accuracy: 0.9445 - 1s/epoch - 843us/step\n",
      "Epoch 109/200\n",
      "1500/1500 - 1s - loss: 0.2706 - accuracy: 0.9227 - val_loss: 0.2233 - val_accuracy: 0.9438 - 1s/epoch - 839us/step\n",
      "Epoch 110/200\n",
      "1500/1500 - 1s - loss: 0.2764 - accuracy: 0.9215 - val_loss: 0.2282 - val_accuracy: 0.9422 - 1s/epoch - 840us/step\n",
      "Epoch 111/200\n",
      "1500/1500 - 1s - loss: 0.2720 - accuracy: 0.9221 - val_loss: 0.2221 - val_accuracy: 0.9436 - 1s/epoch - 841us/step\n",
      "Epoch 112/200\n",
      "1500/1500 - 1s - loss: 0.2729 - accuracy: 0.9214 - val_loss: 0.2302 - val_accuracy: 0.9393 - 1s/epoch - 842us/step\n",
      "Epoch 113/200\n",
      "1500/1500 - 1s - loss: 0.2653 - accuracy: 0.9247 - val_loss: 0.2332 - val_accuracy: 0.9419 - 1s/epoch - 844us/step\n",
      "Epoch 114/200\n",
      "1500/1500 - 1s - loss: 0.2783 - accuracy: 0.9201 - val_loss: 0.2313 - val_accuracy: 0.9431 - 1s/epoch - 844us/step\n",
      "Epoch 115/200\n",
      "1500/1500 - 1s - loss: 0.2767 - accuracy: 0.9213 - val_loss: 0.2281 - val_accuracy: 0.9413 - 1s/epoch - 843us/step\n",
      "Epoch 116/200\n",
      "1500/1500 - 1s - loss: 0.2739 - accuracy: 0.9225 - val_loss: 0.2360 - val_accuracy: 0.9395 - 1s/epoch - 841us/step\n",
      "Epoch 117/200\n",
      "1500/1500 - 1s - loss: 0.2714 - accuracy: 0.9237 - val_loss: 0.2254 - val_accuracy: 0.9442 - 1s/epoch - 845us/step\n",
      "Epoch 118/200\n",
      "1500/1500 - 1s - loss: 0.2703 - accuracy: 0.9234 - val_loss: 0.2220 - val_accuracy: 0.9448 - 1s/epoch - 842us/step\n",
      "Epoch 119/200\n",
      "1500/1500 - 1s - loss: 0.2741 - accuracy: 0.9223 - val_loss: 0.2319 - val_accuracy: 0.9425 - 1s/epoch - 840us/step\n",
      "Epoch 120/200\n",
      "1500/1500 - 1s - loss: 0.2729 - accuracy: 0.9227 - val_loss: 0.2257 - val_accuracy: 0.9401 - 1s/epoch - 842us/step\n",
      "Epoch 121/200\n",
      "1500/1500 - 1s - loss: 0.2695 - accuracy: 0.9231 - val_loss: 0.2281 - val_accuracy: 0.9435 - 1s/epoch - 839us/step\n",
      "Epoch 122/200\n",
      "1500/1500 - 1s - loss: 0.2764 - accuracy: 0.9214 - val_loss: 0.2260 - val_accuracy: 0.9411 - 1s/epoch - 844us/step\n",
      "Epoch 123/200\n",
      "1500/1500 - 1s - loss: 0.2748 - accuracy: 0.9226 - val_loss: 0.2183 - val_accuracy: 0.9457 - 1s/epoch - 843us/step\n",
      "Epoch 124/200\n",
      "1500/1500 - 1s - loss: 0.2687 - accuracy: 0.9228 - val_loss: 0.2155 - val_accuracy: 0.9466 - 1s/epoch - 843us/step\n",
      "Epoch 125/200\n",
      "1500/1500 - 1s - loss: 0.2710 - accuracy: 0.9223 - val_loss: 0.2156 - val_accuracy: 0.9436 - 1s/epoch - 844us/step\n",
      "Epoch 126/200\n",
      "1500/1500 - 1s - loss: 0.2693 - accuracy: 0.9230 - val_loss: 0.2253 - val_accuracy: 0.9452 - 1s/epoch - 843us/step\n",
      "Epoch 127/200\n",
      "1500/1500 - 1s - loss: 0.2648 - accuracy: 0.9239 - val_loss: 0.2365 - val_accuracy: 0.9402 - 1s/epoch - 843us/step\n",
      "Epoch 128/200\n",
      "1500/1500 - 1s - loss: 0.2699 - accuracy: 0.9230 - val_loss: 0.2357 - val_accuracy: 0.9401 - 1s/epoch - 842us/step\n"
     ]
    },
    {
     "name": "stdout",
     "output_type": "stream",
     "text": [
      "Epoch 129/200\n",
      "1500/1500 - 1s - loss: 0.2722 - accuracy: 0.9225 - val_loss: 0.2247 - val_accuracy: 0.9413 - 1s/epoch - 833us/step\n",
      "Epoch 130/200\n",
      "1500/1500 - 1s - loss: 0.2718 - accuracy: 0.9223 - val_loss: 0.2237 - val_accuracy: 0.9452 - 1s/epoch - 843us/step\n",
      "Epoch 131/200\n",
      "1500/1500 - 1s - loss: 0.2667 - accuracy: 0.9228 - val_loss: 0.2317 - val_accuracy: 0.9443 - 1s/epoch - 842us/step\n",
      "Epoch 132/200\n",
      "1500/1500 - 1s - loss: 0.2753 - accuracy: 0.9211 - val_loss: 0.2296 - val_accuracy: 0.9424 - 1s/epoch - 843us/step\n",
      "Epoch 133/200\n",
      "1500/1500 - 1s - loss: 0.2661 - accuracy: 0.9248 - val_loss: 0.2222 - val_accuracy: 0.9436 - 1s/epoch - 847us/step\n",
      "Epoch 134/200\n",
      "1500/1500 - 1s - loss: 0.2703 - accuracy: 0.9240 - val_loss: 0.2293 - val_accuracy: 0.9408 - 1s/epoch - 844us/step\n",
      "Epoch 135/200\n",
      "1500/1500 - 1s - loss: 0.2658 - accuracy: 0.9249 - val_loss: 0.2239 - val_accuracy: 0.9452 - 1s/epoch - 840us/step\n",
      "Epoch 136/200\n",
      "1500/1500 - 1s - loss: 0.2661 - accuracy: 0.9249 - val_loss: 0.2256 - val_accuracy: 0.9436 - 1s/epoch - 843us/step\n",
      "Epoch 137/200\n",
      "1500/1500 - 1s - loss: 0.2653 - accuracy: 0.9243 - val_loss: 0.2241 - val_accuracy: 0.9454 - 1s/epoch - 843us/step\n",
      "Epoch 138/200\n",
      "1500/1500 - 1s - loss: 0.2662 - accuracy: 0.9254 - val_loss: 0.2305 - val_accuracy: 0.9423 - 1s/epoch - 846us/step\n",
      "Epoch 139/200\n",
      "1500/1500 - 1s - loss: 0.2653 - accuracy: 0.9244 - val_loss: 0.2414 - val_accuracy: 0.9413 - 1s/epoch - 841us/step\n",
      "Epoch 140/200\n",
      "1500/1500 - 1s - loss: 0.2685 - accuracy: 0.9240 - val_loss: 0.2379 - val_accuracy: 0.9416 - 1s/epoch - 843us/step\n",
      "Epoch 141/200\n",
      "1500/1500 - 1s - loss: 0.2601 - accuracy: 0.9256 - val_loss: 0.2368 - val_accuracy: 0.9406 - 1s/epoch - 841us/step\n",
      "Epoch 142/200\n",
      "1500/1500 - 1s - loss: 0.2702 - accuracy: 0.9250 - val_loss: 0.2271 - val_accuracy: 0.9436 - 1s/epoch - 843us/step\n",
      "Epoch 143/200\n",
      "1500/1500 - 1s - loss: 0.2662 - accuracy: 0.9247 - val_loss: 0.2229 - val_accuracy: 0.9444 - 1s/epoch - 843us/step\n",
      "Epoch 144/200\n",
      "1500/1500 - 1s - loss: 0.2725 - accuracy: 0.9224 - val_loss: 0.2320 - val_accuracy: 0.9408 - 1s/epoch - 841us/step\n",
      "Epoch 145/200\n",
      "1500/1500 - 1s - loss: 0.2653 - accuracy: 0.9254 - val_loss: 0.2200 - val_accuracy: 0.9456 - 1s/epoch - 844us/step\n",
      "Epoch 146/200\n",
      "1500/1500 - 1s - loss: 0.2656 - accuracy: 0.9242 - val_loss: 0.2319 - val_accuracy: 0.9456 - 1s/epoch - 843us/step\n",
      "Epoch 147/200\n",
      "1500/1500 - 1s - loss: 0.2676 - accuracy: 0.9231 - val_loss: 0.2234 - val_accuracy: 0.9430 - 1s/epoch - 843us/step\n",
      "Epoch 148/200\n",
      "1500/1500 - 1s - loss: 0.2630 - accuracy: 0.9251 - val_loss: 0.2184 - val_accuracy: 0.9463 - 1s/epoch - 841us/step\n",
      "Epoch 149/200\n",
      "1500/1500 - 1s - loss: 0.2684 - accuracy: 0.9252 - val_loss: 0.2573 - val_accuracy: 0.9337 - 1s/epoch - 843us/step\n",
      "Epoch 150/200\n",
      "1500/1500 - 1s - loss: 0.2676 - accuracy: 0.9243 - val_loss: 0.2261 - val_accuracy: 0.9441 - 1s/epoch - 844us/step\n",
      "Epoch 151/200\n",
      "1500/1500 - 1s - loss: 0.2672 - accuracy: 0.9245 - val_loss: 0.2338 - val_accuracy: 0.9427 - 1s/epoch - 842us/step\n",
      "Epoch 152/200\n",
      "1500/1500 - 1s - loss: 0.2610 - accuracy: 0.9259 - val_loss: 0.2338 - val_accuracy: 0.9431 - 1s/epoch - 840us/step\n",
      "Epoch 153/200\n",
      "1500/1500 - 1s - loss: 0.2627 - accuracy: 0.9262 - val_loss: 0.2260 - val_accuracy: 0.9436 - 1s/epoch - 843us/step\n",
      "Epoch 154/200\n",
      "1500/1500 - 1s - loss: 0.2707 - accuracy: 0.9235 - val_loss: 0.2236 - val_accuracy: 0.9446 - 1s/epoch - 842us/step\n",
      "Epoch 155/200\n",
      "1500/1500 - 1s - loss: 0.2659 - accuracy: 0.9243 - val_loss: 0.2417 - val_accuracy: 0.9392 - 1s/epoch - 843us/step\n",
      "Epoch 156/200\n",
      "1500/1500 - 1s - loss: 0.2642 - accuracy: 0.9250 - val_loss: 0.2483 - val_accuracy: 0.9405 - 1s/epoch - 841us/step\n",
      "Epoch 157/200\n",
      "1500/1500 - 1s - loss: 0.2687 - accuracy: 0.9246 - val_loss: 0.2302 - val_accuracy: 0.9445 - 1s/epoch - 839us/step\n",
      "Epoch 158/200\n",
      "1500/1500 - 1s - loss: 0.2640 - accuracy: 0.9247 - val_loss: 0.2294 - val_accuracy: 0.9429 - 1s/epoch - 840us/step\n",
      "Epoch 159/200\n",
      "1500/1500 - 1s - loss: 0.2621 - accuracy: 0.9252 - val_loss: 0.2281 - val_accuracy: 0.9430 - 1s/epoch - 838us/step\n",
      "Epoch 160/200\n",
      "1500/1500 - 1s - loss: 0.2611 - accuracy: 0.9262 - val_loss: 0.2409 - val_accuracy: 0.9413 - 1s/epoch - 843us/step\n",
      "Epoch 161/200\n",
      "1500/1500 - 1s - loss: 0.2656 - accuracy: 0.9246 - val_loss: 0.2272 - val_accuracy: 0.9432 - 1s/epoch - 843us/step\n",
      "Epoch 162/200\n",
      "1500/1500 - 1s - loss: 0.2662 - accuracy: 0.9253 - val_loss: 0.2254 - val_accuracy: 0.9449 - 1s/epoch - 843us/step\n",
      "Epoch 163/200\n",
      "1500/1500 - 1s - loss: 0.2584 - accuracy: 0.9261 - val_loss: 0.2272 - val_accuracy: 0.9436 - 1s/epoch - 841us/step\n",
      "Epoch 164/200\n",
      "1500/1500 - 1s - loss: 0.2683 - accuracy: 0.9242 - val_loss: 0.2275 - val_accuracy: 0.9423 - 1s/epoch - 839us/step\n",
      "Epoch 165/200\n",
      "1500/1500 - 1s - loss: 0.2657 - accuracy: 0.9246 - val_loss: 0.2532 - val_accuracy: 0.9317 - 1s/epoch - 842us/step\n",
      "Epoch 166/200\n",
      "1500/1500 - 1s - loss: 0.2688 - accuracy: 0.9241 - val_loss: 0.2332 - val_accuracy: 0.9438 - 1s/epoch - 841us/step\n",
      "Epoch 167/200\n",
      "1500/1500 - 1s - loss: 0.2654 - accuracy: 0.9250 - val_loss: 0.2305 - val_accuracy: 0.9432 - 1s/epoch - 843us/step\n",
      "Epoch 168/200\n",
      "1500/1500 - 1s - loss: 0.2678 - accuracy: 0.9243 - val_loss: 0.2406 - val_accuracy: 0.9438 - 1s/epoch - 843us/step\n",
      "Epoch 169/200\n",
      "1500/1500 - 1s - loss: 0.2638 - accuracy: 0.9256 - val_loss: 0.2307 - val_accuracy: 0.9446 - 1s/epoch - 873us/step\n",
      "Epoch 170/200\n",
      "1500/1500 - 1s - loss: 0.2623 - accuracy: 0.9258 - val_loss: 0.2344 - val_accuracy: 0.9426 - 1s/epoch - 850us/step\n",
      "Epoch 171/200\n",
      "1500/1500 - 1s - loss: 0.2637 - accuracy: 0.9246 - val_loss: 0.2409 - val_accuracy: 0.9435 - 1s/epoch - 845us/step\n",
      "Epoch 172/200\n",
      "1500/1500 - 1s - loss: 0.2584 - accuracy: 0.9265 - val_loss: 0.2310 - val_accuracy: 0.9442 - 1s/epoch - 845us/step\n",
      "Epoch 173/200\n",
      "1500/1500 - 1s - loss: 0.2632 - accuracy: 0.9254 - val_loss: 0.2196 - val_accuracy: 0.9433 - 1s/epoch - 842us/step\n",
      "Epoch 174/200\n",
      "1500/1500 - 1s - loss: 0.2659 - accuracy: 0.9258 - val_loss: 0.2278 - val_accuracy: 0.9455 - 1s/epoch - 841us/step\n",
      "Epoch 175/200\n",
      "1500/1500 - 1s - loss: 0.2629 - accuracy: 0.9243 - val_loss: 0.2289 - val_accuracy: 0.9440 - 1s/epoch - 863us/step\n",
      "Epoch 176/200\n",
      "1500/1500 - 1s - loss: 0.2586 - accuracy: 0.9261 - val_loss: 0.2266 - val_accuracy: 0.9457 - 1s/epoch - 863us/step\n",
      "Epoch 177/200\n",
      "1500/1500 - 1s - loss: 0.2596 - accuracy: 0.9264 - val_loss: 0.2364 - val_accuracy: 0.9425 - 1s/epoch - 844us/step\n",
      "Epoch 178/200\n",
      "1500/1500 - 1s - loss: 0.2642 - accuracy: 0.9259 - val_loss: 0.2311 - val_accuracy: 0.9432 - 1s/epoch - 841us/step\n",
      "Epoch 179/200\n",
      "1500/1500 - 1s - loss: 0.2594 - accuracy: 0.9264 - val_loss: 0.2460 - val_accuracy: 0.9433 - 1s/epoch - 842us/step\n",
      "Epoch 180/200\n",
      "1500/1500 - 1s - loss: 0.2649 - accuracy: 0.9253 - val_loss: 0.2327 - val_accuracy: 0.9433 - 1s/epoch - 841us/step\n",
      "Epoch 181/200\n",
      "1500/1500 - 1s - loss: 0.2664 - accuracy: 0.9252 - val_loss: 0.2401 - val_accuracy: 0.9415 - 1s/epoch - 843us/step\n",
      "Epoch 182/200\n",
      "1500/1500 - 1s - loss: 0.2643 - accuracy: 0.9242 - val_loss: 0.2351 - val_accuracy: 0.9432 - 1s/epoch - 845us/step\n",
      "Epoch 183/200\n",
      "1500/1500 - 1s - loss: 0.2592 - accuracy: 0.9261 - val_loss: 0.2282 - val_accuracy: 0.9438 - 1s/epoch - 839us/step\n",
      "Epoch 184/200\n",
      "1500/1500 - 1s - loss: 0.2637 - accuracy: 0.9262 - val_loss: 0.2308 - val_accuracy: 0.9453 - 1s/epoch - 845us/step\n",
      "Epoch 185/200\n",
      "1500/1500 - 1s - loss: 0.2670 - accuracy: 0.9243 - val_loss: 0.2294 - val_accuracy: 0.9420 - 1s/epoch - 844us/step\n",
      "Epoch 186/200\n",
      "1500/1500 - 1s - loss: 0.2611 - accuracy: 0.9238 - val_loss: 0.2235 - val_accuracy: 0.9435 - 1s/epoch - 842us/step\n",
      "Epoch 187/200\n",
      "1500/1500 - 1s - loss: 0.2572 - accuracy: 0.9268 - val_loss: 0.2272 - val_accuracy: 0.9428 - 1s/epoch - 843us/step\n",
      "Epoch 188/200\n",
      "1500/1500 - 1s - loss: 0.2633 - accuracy: 0.9249 - val_loss: 0.2399 - val_accuracy: 0.9398 - 1s/epoch - 844us/step\n",
      "Epoch 189/200\n",
      "1500/1500 - 1s - loss: 0.2582 - accuracy: 0.9268 - val_loss: 0.2313 - val_accuracy: 0.9442 - 1s/epoch - 841us/step\n",
      "Epoch 190/200\n",
      "1500/1500 - 1s - loss: 0.2580 - accuracy: 0.9273 - val_loss: 0.2403 - val_accuracy: 0.9426 - 1s/epoch - 843us/step\n",
      "Epoch 191/200\n",
      "1500/1500 - 1s - loss: 0.2582 - accuracy: 0.9269 - val_loss: 0.2221 - val_accuracy: 0.9436 - 1s/epoch - 844us/step\n",
      "Epoch 192/200\n",
      "1500/1500 - 1s - loss: 0.2603 - accuracy: 0.9275 - val_loss: 0.2360 - val_accuracy: 0.9429 - 1s/epoch - 840us/step\n"
     ]
    },
    {
     "name": "stdout",
     "output_type": "stream",
     "text": [
      "Epoch 193/200\n",
      "1500/1500 - 1s - loss: 0.2634 - accuracy: 0.9255 - val_loss: 0.2198 - val_accuracy: 0.9454 - 1s/epoch - 843us/step\n",
      "Epoch 194/200\n",
      "1500/1500 - 1s - loss: 0.2583 - accuracy: 0.9277 - val_loss: 0.2333 - val_accuracy: 0.9457 - 1s/epoch - 841us/step\n",
      "Epoch 195/200\n",
      "1500/1500 - 1s - loss: 0.2584 - accuracy: 0.9275 - val_loss: 0.2331 - val_accuracy: 0.9467 - 1s/epoch - 847us/step\n",
      "Epoch 196/200\n",
      "1500/1500 - 1s - loss: 0.2594 - accuracy: 0.9276 - val_loss: 0.2276 - val_accuracy: 0.9433 - 1s/epoch - 842us/step\n",
      "Epoch 197/200\n",
      "1500/1500 - 1s - loss: 0.2615 - accuracy: 0.9261 - val_loss: 0.2256 - val_accuracy: 0.9443 - 1s/epoch - 841us/step\n",
      "Epoch 198/200\n",
      "1500/1500 - 1s - loss: 0.2593 - accuracy: 0.9269 - val_loss: 0.2317 - val_accuracy: 0.9448 - 1s/epoch - 843us/step\n",
      "Epoch 199/200\n",
      "1500/1500 - 1s - loss: 0.2586 - accuracy: 0.9275 - val_loss: 0.2294 - val_accuracy: 0.9430 - 1s/epoch - 842us/step\n",
      "Epoch 200/200\n",
      "1500/1500 - 1s - loss: 0.2595 - accuracy: 0.9266 - val_loss: 0.2323 - val_accuracy: 0.9456 - 1s/epoch - 844us/step\n"
     ]
    }
   ],
   "source": [
    "# will take a while\n",
    "history_dropoutmnist = model.fit(x_train, y_tr_one_hot, epochs=200, batch_size= 32, validation_split = 0.2, verbose =2)"
   ]
  },
  {
   "cell_type": "markdown",
   "metadata": {
    "cell_style": "split",
    "slideshow": {
     "slide_type": "slide"
    }
   },
   "source": [
    "Accuracy on train set will be lower in any given cycle:\n",
    "- some activation killed randomly on training.\n",
    "\n",
    "Performance on validation will be high:\n",
    "- uses full network with learned weights for validation"
   ]
  },
  {
   "cell_type": "markdown",
   "metadata": {
    "cell_style": "split",
    "slideshow": {
     "slide_type": "slide"
    }
   },
   "source": [
    "Not overtraining despite high model capacity:\n",
    "- many hidden layers"
   ]
  },
  {
   "cell_type": "code",
   "execution_count": 27,
   "metadata": {
    "cell_style": "split",
    "slideshow": {
     "slide_type": "fragment"
    }
   },
   "outputs": [
    {
     "data": {
      "image/png": "[encoded data removed]",
      "text/plain": [
       "<Figure size 640x480 with 1 Axes>"
      ]
     },
     "metadata": {},
     "output_type": "display_data"
    }
   ],
   "source": [
    "train_dropoutmnist_history = pd.DataFrame(history_dropoutmnist.history)\n",
    "train_dropoutmnist_history.index.name = 'epochs'\n",
    "\n",
    "col_list = ['loss', 'val_loss']\n",
    "train_dropoutmnist_history[col_list].plot()\n",
    "plt.ylabel('Categorical cross entropy')\n",
    "plt.title('Training loss history')\n",
    "plt.show()"
   ]
  },
  {
   "cell_type": "code",
   "execution_count": 28,
   "metadata": {
    "cell_style": "split",
    "slideshow": {
     "slide_type": "slide"
    }
   },
   "outputs": [
    {
     "data": {
      "image/png": "[encoded data removed]",
      "text/plain": [
       "<Figure size 640x480 with 1 Axes>"
      ]
     },
     "metadata": {},
     "output_type": "display_data"
    }
   ],
   "source": [
    "col_list = ['accuracy', 'val_accuracy']\n",
    "train_dropoutmnist_history[col_list].plot()\n",
    "plt.ylabel('Accuracy')\n",
    "plt.title('Training loss history')\n",
    "plt.show()"
   ]
  },
  {
   "cell_type": "markdown",
   "metadata": {
    "cell_style": "split",
    "slideshow": {
     "slide_type": "fragment"
    }
   },
   "source": [
    "Evaluate on test set."
   ]
  },
  {
   "cell_type": "code",
   "execution_count": 29,
   "metadata": {
    "cell_style": "split",
    "slideshow": {
     "slide_type": "fragment"
    }
   },
   "outputs": [
    {
     "data": {
      "text/plain": [
       "[0.24031800031661987, 0.941100001335144]"
      ]
     },
     "execution_count": 29,
     "metadata": {},
     "output_type": "execute_result"
    }
   ],
   "source": [
    "model.evaluate(x_test, y_tt_one_hot, verbose =0)"
   ]
  },
  {
   "cell_type": "markdown",
   "metadata": {
    "slideshow": {
     "slide_type": "slide"
    }
   },
   "source": [
    "#### Dropout regularization in conjunction with L2:\n",
    "\n",
    "- can be used to train very deep networks\n",
    "- model complex relationships without overfitting\n",
    "- works best in these cases with a lot of data"
   ]
  },
  {
   "cell_type": "markdown",
   "metadata": {
    "slideshow": {
     "slide_type": "slide"
    }
   },
   "source": [
    "Next up:\n",
    "- doing much better with a more suitable network architecture\n",
    "- Convolutional Neural Networks (CNNs)"
   ]
  },
  {
   "cell_type": "markdown",
   "metadata": {},
   "source": [
    "## HyperParameter Tuning"
   ]
  },
  {
   "cell_type": "markdown",
   "metadata": {},
   "source": [
    "```python\n",
    "from sklearn.model_selection import GridSearchCV\n",
    "from tensorflow.keras.models import Sequential\n",
    "from tensorflow.keras.layers import Dense\n",
    "from tensorflow.keras.wrappers.scikit_learn import KerasClassifier\n",
    "\n",
    "# Define a function to create the Keras model\n",
    "def create_model(optimizer='adam', units=32, activation='relu'):\n",
    "    model = Sequential()\n",
    "    model.add(Dense(units, activation=activation, input_dim=input_dim))\n",
    "    model.add(Dense(output_dim, activation='softmax'))\n",
    "    model.compile(optimizer=optimizer, loss='categorical_crossentropy', metrics=['accuracy'])\n",
    "    return model\n",
    "\n",
    "# Create a KerasClassifier based on the create_model function\n",
    "model = KerasClassifier(build_fn=create_model)\n",
    "\n",
    "# Define a parameter grid for hyperparameter tuning\n",
    "param_grid = {\n",
    "    'units': [32, 64, 128],\n",
    "    'activation': ['relu', 'tanh'],\n",
    "    'optimizer': ['adam', 'sgd'],\n",
    "}\n",
    "\n",
    "# Perform grid search with cross-validation\n",
    "grid_search = GridSearchCV(estimator=model, param_grid=param_grid, scoring='accuracy', cv=3)\n",
    "grid_result = grid_search.fit(X_train, y_train)\n",
    "\n",
    "# Print the best hyperparameters and their performance\n",
    "print(\"Best Parameters: \", grid_result.best_params_)\n",
    "print(\"Best Accuracy: \", grid_result.best_score_)\n",
    "```\n"
   ]
  },
  {
   "cell_type": "code",
   "execution_count": null,
   "metadata": {},
   "outputs": [],
   "source": []
  }
 ],
 "metadata": {
  "colab": {
   "collapsed_sections": [],
   "name": "intro-to-keras.ipynb",
   "provenance": []
  },
  "kernelspec": {
   "display_name": "dplearn",
   "language": "python",
   "name": "dplearn"
  },
  "language_info": {
   "codemirror_mode": {
    "name": "ipython",
    "version": 3
   },
   "file_extension": ".py",
   "mimetype": "text/x-python",
   "name": "python",
   "nbconvert_exporter": "python",
   "pygments_lexer": "ipython3",
   "version": "3.10.10"
  }
 },
 "nbformat": 4,
 "nbformat_minor": 4
}
